{
 "cells": [
  {
   "cell_type": "code",
   "execution_count": 1,
   "metadata": {},
   "outputs": [],
   "source": [
    "import pandas as pd\n",
    "import numpy as np\n",
    "import math\n",
    "from matplotlib import pyplot\n",
    "from sklearn.preprocessing import MinMaxScaler,StandardScaler\n",
    "from sklearn.model_selection import GridSearchCV, cross_val_score, cross_val_predict,train_test_split\n",
    "from sklearn.model_selection import train_test_split\n",
    "import datetime\n",
    "from  sklearn.ensemble import GradientBoostingClassifier\n",
    "from sklearn.metrics import f1_score\n",
    "from sklearn.metrics import accuracy_score\n",
    "from sklearn.metrics import roc_curve\n",
    "from sklearn.metrics import roc_auc_score\n",
    "import warnings as wp\n",
    "wp.filterwarnings(\"ignore\")"
   ]
  },
  {
   "cell_type": "markdown",
   "metadata": {},
   "source": [
    "**Get Data**"
   ]
  },
  {
   "cell_type": "code",
   "execution_count": 2,
   "metadata": {},
   "outputs": [],
   "source": [
    "#Lee --\n",
    "# Don't run if note needed, go to Pre-processed data\n",
    "lee_data=pd.read_csv(\"https://raw.githubusercontent.com/leesharpe/nfldata/master/data/games.csv\", low_memory=False)\n",
    "lee_data=lee_data.loc[lee_data['season'] >= 2006,]\n",
    "lee_data['temp'].fillna(72,inplace=True)\n",
    "lee_data['wind'].fillna(lee_data['wind'].min(),inplace=True)\n",
    "lee_data['game_id'] = lee_data['old_game_id']\n",
    "lee_data.set_index('game_id',inplace=True)\n",
    "elev_dic = pd.read_csv('elev_dic.csv').set_index('stadium_id').to_dict()['elevation_feet']\n",
    "lee_data['elevation'] = lee_data['stadium_id'].map(elev_dic)\n",
    "temp_dic = lee_data['temp'].to_dict()\n",
    "roof_dic = lee_data['roof'].to_dict()\n",
    "wind_dic = lee_data['wind'].to_dict()\n",
    "elevation_dic = lee_data['elevation'].to_dict()"
   ]
  },
  {
   "cell_type": "code",
   "execution_count": 3,
   "metadata": {},
   "outputs": [],
   "source": [
    "#Roster --\n",
    "# Don't run if note needed, go to Pre-processed data\n",
    "roster = pd.read_csv('https://raw.githubusercontent.com/guga31bb/nflfastR-data/master/roster-data/roster.csv') \n",
    "roster.rename(columns={'teamPlayers.positionGroup':'position','teamPlayers.gsisId':'rec_id'},inplace=True)\n",
    "roster = roster[['rec_id','position']]\n",
    "roster = roster.drop_duplicates()\n",
    "roster=roster.set_index('rec_id')\n",
    "pos_dic=roster.to_dict()['position']"
   ]
  },
  {
   "cell_type": "code",
   "execution_count": 5,
   "metadata": {},
   "outputs": [],
   "source": [
    "#PBP --\n",
    "# Don't run if note needed, go to Pre-processed data instead\n",
    "# years = range(2006,2020)\n",
    "# data = pd.DataFrame()\n",
    "# for i in years:  \n",
    "#     i_data = pd.read_csv(\n",
    "#         'https://github.com/guga31bb/nflfastR-data/blob/master/legacy-data/play_by_play_' + str(i) + '.csv.gz?raw=True',\n",
    "#         compression='gzip', \n",
    "#         low_memory=False)\n",
    "#     data = data.append(i_data, sort=True)\n",
    "# data.to_csv(r\"C:\\Users\\adrian-boss\\Documents\\heavy_data\\raw.csv\",index=False)"
   ]
  },
  {
   "cell_type": "markdown",
   "metadata": {},
   "source": [
    "**Data Prep**"
   ]
  },
  {
   "cell_type": "code",
   "execution_count": 6,
   "metadata": {},
   "outputs": [],
   "source": [
    "data=pd.read_csv(r'C:\\Users\\adrian-boss\\Documents\\heavy_data\\raw.csv')\n",
    "# Don't run if not needed, go to Pre-processed data\n",
    "\n",
    "#Clean --\n",
    "data = data[(data['play_type'] == 'pass') & \n",
    "            (data['epa'].isna()==False) & \n",
    "            (data['qb_kneel'] == 0.0) &\n",
    "            (data['qb_scramble'] == 0.0) &\n",
    "            (data['qb_spike'] == 0.0) &\n",
    "            (data['penalty'] == 0.0) &\n",
    "            (data['sack'] == 0.0)\n",
    "           ]\n",
    "\n",
    "#Merge data\n",
    "data['rec_pos'] = data['receiver_id'].map(pos_dic)\n",
    "data['temp']=data['game_id'].map(temp_dic)\n",
    "data['roof']=data['game_id'].map(roof_dic)\n",
    "data['wind']=data['game_id'].map(wind_dic)\n",
    "data['elevation']=data['game_id'].map(elevation_dic)\n",
    "\n",
    "#Mutations --\n",
    "data['targ'] = 'OTHER'\n",
    "for p in ['WR','TE','RB','FB']:\n",
    "    data.loc[data['rec_pos'] == p,'targ'] = p\n",
    "data['tipped'] = 0\n",
    "data.loc[data['desc'].str.contains('tip'),'tipped'] = 1\n",
    "data[\"air_is_zero\"]= np.where(data[\"air_yards\"]==0, 1, 0)\n",
    "data['home'] = np.where(data[\"home_team\"] == data[\"posteam\"], 1, 0)\n",
    "data[\"2min_warning\"]= np.where(data[\"half_seconds_remaining\"]<121, 1, 0)\n",
    "data[\"outdoor\"]=np.where((data[\"roof\"]=='outdoors') | (data[\"roof\"]=='open'), 1, 0)\n",
    "data['yardstosticks'] = data['air_yards'] - data['ydstogo'] \n",
    "data['era'] = '3'\n",
    "data.loc[data['season'].isin(range(2006,2013+1)),'era'] = '1'\n",
    "data.loc[data['season'].isin(range(2014,2017+1)),'era'] = '2'\n",
    "data['down_3'] = 0\n",
    "data.loc[data['down'] == 3.0,'down_3'] = 1\n",
    "\n",
    "#Select\n",
    "data=data[['play_id','game_id',\n",
    "    'targ','complete_pass', 'air_yards','qb_hit','yardline_100',\n",
    "    'ydstogo','air_is_zero','outdoor','home','tipped',\n",
    "    '2min_warning','season','passer_player_name','passer_player_id',\n",
    "    'wp','temp','ep','wind','yardstosticks','era','down_3','elevation']]\n",
    "\n",
    "data.to_csv(\"data_prep.csv\",index=False)"
   ]
  },
  {
   "cell_type": "markdown",
   "metadata": {},
   "source": [
    "**Prepare analyisis**"
   ]
  },
  {
   "cell_type": "code",
   "execution_count": 173,
   "metadata": {},
   "outputs": [],
   "source": [
    "# Read this prepared dataset to save time --\n",
    "data=pd.read_csv(\"data_prep.csv\")\n",
    "\n",
    "#Select variables and drop NAs --\n",
    "varis=['play_id','game_id',\n",
    "       'targ','complete_pass', 'air_yards','yardline_100',\n",
    "       'down_3','ydstogo','air_is_zero','tipped',\n",
    "       '2min_warning','season','passer_player_name','passer_player_id',\n",
    "       'wind','era','temp','home','yardstosticks']\n",
    "data=data[varis]\n",
    "data=data.dropna()\n",
    "\n",
    "# Prepare Index --\n",
    "data['id'] = data['game_id'].astype(str) + '_'+ data['play_id'].astype(str)\n",
    "data.set_index('id',drop=True,inplace=True)\n",
    "\n",
    "# Dummies --\n",
    "t = pd.get_dummies(data['era'],columns='era',prefix='era')\n",
    "data = pd.concat([data, t], axis=1)\n",
    "\n",
    "t=pd.get_dummies(data['targ'],columns='targ',prefix='targ')\n",
    "data=pd.concat([data, t], axis=1)\n",
    "data.drop(['targ'],axis=1,inplace= True)\n",
    "\n",
    "# Separate comparison set -- We will compare to NFL Next Gen Stats 2019 CPOE results\n",
    "comp = data[data['season'] == 2019]\n",
    "dic_names=comp[['passer_player_id','passer_player_name']].set_index('passer_player_id').to_dict()['passer_player_name']\n",
    "dic_passer=comp['passer_player_id'].to_dict()\n",
    "comp_o=comp['complete_pass']\n",
    "comp.drop(['complete_pass','era','game_id','play_id','season', 'passer_player_name','passer_player_id'],axis=1,inplace= True)\n",
    "\n",
    "\n",
    "# Sample --\n",
    "era1=data[data['era'] == 1].sample(n=round(20000), replace=False, random_state=1)\n",
    "era2=data[data['era'] == 2].sample(n=round(20000), replace=False, random_state=1)\n",
    "era3=data[data['era'] == 3].sample(n=round(20000), replace=False, random_state=1)\n",
    "sample = pd.concat([era1,era2,era3],axis=0)\n",
    "sample.drop(['era','game_id','play_id','season', 'passer_player_name','passer_player_id'],axis=1,inplace= True)\n",
    "\n",
    "# Split train test -- \n",
    "Y = sample['complete_pass']\n",
    "X = sample.drop(columns='complete_pass')\n",
    "x, x_test, y, y_test = train_test_split(X, Y, test_size=0.2, random_state = 10)\n",
    "\n",
    "# Feature names --\n",
    "features = X.columns\n",
    "\n",
    "#Scale data --\n",
    "scaler = MinMaxScaler()\n",
    "x = scaler.fit_transform(x)\n",
    "x_test = scaler.transform(x_test)\n",
    "x_comparisson= scaler.transform(comp)"
   ]
  },
  {
   "cell_type": "markdown",
   "metadata": {},
   "source": [
    "**Hyper-Parameter Tunning using Grid Search Cross-validation**\n",
    "\n",
    "\n",
    "*Used accuracy*\n",
    "    \n",
    "**CV Grid Searched**\n",
    "        \n",
    "|Parameter|last|last-1|last-2|\n",
    "|------|------|------|------|\n",
    "|'min_samples_split'|[690,695,700]|[690,695]|[695,700,705]|\n",
    "|'min_samples_leaf'|[50,60,70]|[50,60]|[50,70,90]|\n",
    "|'max_depth'|[4,5,6]|[4,5]|[1,2,4]|\n",
    "|'n_estimators'|[80,90,100]|[80,90]|[60,70,80]|\n",
    "|'subsample'|[.8]|[.8]|[.7,.8,.9]|\n",
    "|'learning_rate'|[.1]|[.1]|[.01,.05,.1]|\n",
    "|'max_features'|['auto']|['auto']|['auto']|\n",
    "\n",
    "*Run-time: Run-time: 0:42:46.053289*\n",
    "\n",
    "{'max_depth': 5,\n",
    " 'min_samples_leaf': 50,\n",
    " 'min_samples_split': 690,\n",
    " 'n_estimators': 90}\n",
    " \n",
    " \n",
    "**Results**\n",
    "\n",
    "|Parameter|Best|Best-1|Best-2\n",
    "|------|------|------|------|\n",
    "|'learning_rate'|0.1|.1| 0.1| \n",
    "|'max_depth'|5|5|4|\n",
    "|'max_features'|'auto'|'auto'|'auto'| \n",
    "|'min_samples_leaf'|50|50|50| \n",
    "|'min_samples_split'|695|695|695| \n",
    "|'n_estimators'|90|90|80|\n",
    "|'subsample'|0.8|0.8|0.8|\n",
    " \n",
    "*Still need to tune 'learning_rate'*"
   ]
  },
  {
   "cell_type": "code",
   "execution_count": 3,
   "metadata": {},
   "outputs": [
    {
     "name": "stdout",
     "output_type": "stream",
     "text": [
      "Run-time: 0:19:15.020494\n"
     ]
    },
    {
     "data": {
      "text/plain": [
       "{'max_depth': 5,\n",
       " 'min_samples_leaf': 50,\n",
       " 'min_samples_split': 690,\n",
       " 'n_estimators': 90}"
      ]
     },
     "execution_count": 3,
     "metadata": {},
     "output_type": "execute_result"
    }
   ],
   "source": [
    "a = datetime.datetime.now()\n",
    "\n",
    "param_test = {\n",
    "    'min_samples_split':[680,685,690],\n",
    "    'min_samples_leaf':[45,50,55],  \n",
    "    'max_depth':[4,5,6],\n",
    "    'n_estimators':[80,90,100]\n",
    "}\n",
    "\n",
    "#Set grid-search --\n",
    "gsearch = GridSearchCV(\n",
    "    GradientBoostingClassifier(\n",
    "        random_state=0,\n",
    "        subsample = .8,\n",
    "        learning_rate = .1,\n",
    "        max_features='auto'\n",
    "    ), \n",
    "    param_grid = param_test, \n",
    "    scoring='accuracy',\n",
    "    n_jobs=-1, \n",
    "    cv=5)  \n",
    "\n",
    "#Run search --\n",
    "gsearch.fit(x,y)\n",
    "\n",
    "b = datetime.datetime.now()\n",
    "print('Run-time:',b - a)\n",
    "\n",
    "#CV Results\n",
    "gsearch.best_params_"
   ]
  },
  {
   "cell_type": "markdown",
   "metadata": {},
   "source": [
    "**Train Results**"
   ]
  },
  {
   "cell_type": "code",
   "execution_count": 177,
   "metadata": {},
   "outputs": [
    {
     "name": "stdout",
     "output_type": "stream",
     "text": [
      "Gradient Boosting Classifier train accuracy score: \n",
      "70%\n",
      "Train RMSE: \n",
      "45%\n",
      "Train MSE: \n",
      "20%\n"
     ]
    }
   ],
   "source": [
    "#Estimate prob of test set\n",
    "ytrain_prob = gsearch.predict_proba(x)[:, 1]\n",
    "ytrain_hat = gsearch.predict(x)\n",
    "train=pd.DataFrame(data={'CP':ytrain_prob,'Predicted':ytrain_hat},index=y.index)\n",
    "train['Outcome'] = y\n",
    "train['CPOE'] = train['Outcome'] - train['CP']\n",
    "se_t = train['CPOE']**2\n",
    "mse_t = se_t.values.mean()\n",
    "rmse_t = math.sqrt(mse_t)\n",
    "train_accuracy = accuracy_score(y.values,ytrain_hat)\n",
    "\n",
    "print('Gradient Boosting Classifier train accuracy score: \\n{:.0%}'.format(train_accuracy))\n",
    "print('Train RMSE: \\n{:.0%}'.format(rmse_t))\n",
    "print('Train MSE: \\n{:.0%}'.format(mse_t))"
   ]
  },
  {
   "cell_type": "markdown",
   "metadata": {},
   "source": [
    "**Test Results**"
   ]
  },
  {
   "cell_type": "code",
   "execution_count": 166,
   "metadata": {},
   "outputs": [
    {
     "name": "stdout",
     "output_type": "stream",
     "text": [
      "Gradient Boosting Classifier test accuracy score: \n",
      "69.90%\n",
      "Test RMSE: \n",
      "45%\n",
      "Test MSE: \n",
      "21%\n"
     ]
    }
   ],
   "source": [
    "ytest_prob = gsearch.predict_proba(x_test)[:, 1]\n",
    "ytest_hat = gsearch.predict(x_test)\n",
    "test=pd.DataFrame(data={'CP':ytest_prob,'Predicted':ytest_hat},index= y_test.index)\n",
    "test['Outcome'] = y_test\n",
    "test['CPOE'] = test['Outcome'] - test['CP']\n",
    "se = test['CPOE']**2\n",
    "mse = se.values.mean()\n",
    "rmse = math.sqrt(mse)\n",
    "test_accuracy = accuracy_score(y.values,ytrain_hat)\n",
    "\n",
    "print('Gradient Boosting Classifier test accuracy score: \\n{:.2%}'.format(test_accuracy,4))\n",
    "print('Test RMSE: \\n{:.0%}'.format(rmse))\n",
    "print('Test MSE: \\n{:.0%}'.format(mse))"
   ]
  },
  {
   "cell_type": "code",
   "execution_count": 14,
   "metadata": {
    "scrolled": false
   },
   "outputs": [
    {
     "name": "stdout",
     "output_type": "stream",
     "text": [
      "No Skill: ROC AUC=0.500\n",
      "GBC: ROC AUC=0.724\n"
     ]
    },
    {
     "data": {
      "image/png": "[encoded data removed]",
      "text/plain": [
       "<Figure size 648x576 with 1 Axes>"
      ]
     },
     "metadata": {
      "needs_background": "light"
     },
     "output_type": "display_data"
    }
   ],
   "source": [
    "# calculate roc curve\n",
    "#Code from: https://machinelearningmastery.com/roc-curves-and-precision-recall-curves-for-classification-in-python/\n",
    "lr_probs = gsearch1.predict_proba(out_of_sample_test)[:, 1]\n",
    "ns_probs = [0 for _ in range(len(Y_out_of_sample_test))]\n",
    "\n",
    "ns_auc = roc_auc_score(Y_out_of_sample_test, ns_probs)\n",
    "lr_auc = roc_auc_score(Y_out_of_sample_test, lr_probs)\n",
    "\n",
    "# summarize scores\n",
    "print('No Skill: ROC AUC=%.3f' % (ns_auc))\n",
    "print('GBC: ROC AUC=%.3f' % (lr_auc))\n",
    "\n",
    "# calculate roc curves\n",
    "ns_fpr, ns_tpr, _ = roc_curve(Y_out_of_sample_test, ns_probs)\n",
    "lr_fpr, lr_tpr, _ = roc_curve(Y_out_of_sample_test, lr_probs)\n",
    "\n",
    "# plot the roc curve for the model\n",
    "pyplot.figure(figsize=(9,8))\n",
    "pyplot.plot(ns_fpr, ns_tpr, linestyle='--', label='No Skill')\n",
    "pyplot.plot(lr_fpr, lr_tpr, marker='.', label='GBC')\n",
    "\n",
    "# axis labels\n",
    "pyplot.xlabel('False Positive Rate')\n",
    "pyplot.ylabel('True Positive Rate')\n",
    "\n",
    "# show the legend\n",
    "pyplot.legend()\n",
    "\n",
    "# show the plot\n",
    "pyplot.show()"
   ]
  },
  {
   "cell_type": "code",
   "execution_count": 165,
   "metadata": {},
   "outputs": [
    {
     "name": "stdout",
     "output_type": "stream",
     "text": [
      "Gradient Boosting Classifier test accuracy score: \n",
      "70%\n",
      "Test RMSE: \n",
      "44%\n",
      "Test MSE: \n",
      "19%\n"
     ]
    }
   ],
   "source": [
    "ycomp_prob = gsearch.predict_proba(x_comparisson)[:, 1]\n",
    "ycomp_hat = gsearch.predict(x_comparisson)\n",
    "comp_set = pd.DataFrame(data={'CP':ycomp_prob,'Predicted':ycomp_hat},index=comp.index)\n",
    "\n",
    "comp['player_id'] = comp.index.map(dic_passer)\n",
    "comp['passer_name'] = comp['player_id'].map(dic_names)\n",
    "\n",
    "comparing_set = pd.concat([comp,comp_set,comp_o],axis=1)\n",
    "comparing_set['CPOE'] = comparing_set['complete_pass'] - comparing_set['CP']\n",
    "\n",
    "se_c = comparing_set['CPOE']**2\n",
    "mse_c = se_c.values.mean()\n",
    "rmse_c = math.sqrt(mse_c)\n",
    "comp_accuracy = accuracy_score(comparing_set['complete_pass'].values, comparing_set['Predicted'].values)\n",
    "\n",
    "print('Gradient Boosting Classifier test accuracy score: \\n{:.0%}'.format(test_accuracy))\n",
    "print('Test RMSE: \\n{:.0%}'.format(rmse_c))\n",
    "print('Test MSE: \\n{:.0%}'.format(mse_c))"
   ]
  },
  {
   "cell_type": "code",
   "execution_count": 150,
   "metadata": {},
   "outputs": [],
   "source": [
    "by_qb = comparing_set.groupby(\n",
    "    'player_id').agg(\n",
    "    {\n",
    "        'CPOE':'mean',\n",
    "        'CP':'count', \n",
    "        }).rename(columns={'CP':'Num of Attempts'})\n",
    "by_qb=by_qb[by_qb['Num of Attempts'] >= 100]\n",
    "by_qb['QB'] = by_qb.index.map(dic_names)"
   ]
  },
  {
   "cell_type": "code",
   "execution_count": 151,
   "metadata": {},
   "outputs": [
    {
     "data": {
      "text/html": [
       "<div>\n",
       "<style scoped>\n",
       "    .dataframe tbody tr th:only-of-type {\n",
       "        vertical-align: middle;\n",
       "    }\n",
       "\n",
       "    .dataframe tbody tr th {\n",
       "        vertical-align: top;\n",
       "    }\n",
       "\n",
       "    .dataframe thead th {\n",
       "        text-align: right;\n",
       "    }\n",
       "</style>\n",
       "<table border=\"1\" class=\"dataframe\">\n",
       "  <thead>\n",
       "    <tr style=\"text-align: right;\">\n",
       "      <th></th>\n",
       "      <th>CPOE</th>\n",
       "      <th>Num of Attempts</th>\n",
       "      <th>QB</th>\n",
       "    </tr>\n",
       "    <tr>\n",
       "      <th>player_id</th>\n",
       "      <th></th>\n",
       "      <th></th>\n",
       "      <th></th>\n",
       "    </tr>\n",
       "  </thead>\n",
       "  <tbody>\n",
       "    <tr>\n",
       "      <th>00-0033077</th>\n",
       "      <td>0.002006</td>\n",
       "      <td>579</td>\n",
       "      <td>D.Prescott</td>\n",
       "    </tr>\n",
       "  </tbody>\n",
       "</table>\n",
       "</div>"
      ],
      "text/plain": [
       "                CPOE  Num of Attempts          QB\n",
       "player_id                                        \n",
       "00-0033077  0.002006              579  D.Prescott"
      ]
     },
     "execution_count": 151,
     "metadata": {},
     "output_type": "execute_result"
    }
   ],
   "source": [
    "by_qb[by_qb['QB'] == 'D.Prescott']"
   ]
  },
  {
   "cell_type": "code",
   "execution_count": 152,
   "metadata": {},
   "outputs": [
    {
     "data": {
      "text/html": [
       "<div>\n",
       "<style scoped>\n",
       "    .dataframe tbody tr th:only-of-type {\n",
       "        vertical-align: middle;\n",
       "    }\n",
       "\n",
       "    .dataframe tbody tr th {\n",
       "        vertical-align: top;\n",
       "    }\n",
       "\n",
       "    .dataframe thead th {\n",
       "        text-align: right;\n",
       "    }\n",
       "</style>\n",
       "<table border=\"1\" class=\"dataframe\">\n",
       "  <thead>\n",
       "    <tr style=\"text-align: right;\">\n",
       "      <th></th>\n",
       "      <th>CPOE</th>\n",
       "      <th>Num of Attempts</th>\n",
       "      <th>QB</th>\n",
       "    </tr>\n",
       "    <tr>\n",
       "      <th>player_id</th>\n",
       "      <th></th>\n",
       "      <th></th>\n",
       "      <th></th>\n",
       "    </tr>\n",
       "  </thead>\n",
       "  <tbody>\n",
       "    <tr>\n",
       "      <th>00-0020531</th>\n",
       "      <td>0.092570</td>\n",
       "      <td>401</td>\n",
       "      <td>D.Brees</td>\n",
       "    </tr>\n",
       "    <tr>\n",
       "      <th>00-0029263</th>\n",
       "      <td>0.063083</td>\n",
       "      <td>568</td>\n",
       "      <td>R.Wilson</td>\n",
       "    </tr>\n",
       "    <tr>\n",
       "      <th>00-0031280</th>\n",
       "      <td>0.059621</td>\n",
       "      <td>503</td>\n",
       "      <td>D.Carr</td>\n",
       "    </tr>\n",
       "    <tr>\n",
       "      <th>00-0029701</th>\n",
       "      <td>0.055987</td>\n",
       "      <td>337</td>\n",
       "      <td>R.Tannehill</td>\n",
       "    </tr>\n",
       "    <tr>\n",
       "      <th>00-0029604</th>\n",
       "      <td>0.033339</td>\n",
       "      <td>487</td>\n",
       "      <td>K.Cousins</td>\n",
       "    </tr>\n",
       "  </tbody>\n",
       "</table>\n",
       "</div>"
      ],
      "text/plain": [
       "                CPOE  Num of Attempts           QB\n",
       "player_id                                         \n",
       "00-0020531  0.092570              401      D.Brees\n",
       "00-0029263  0.063083              568     R.Wilson\n",
       "00-0031280  0.059621              503       D.Carr\n",
       "00-0029701  0.055987              337  R.Tannehill\n",
       "00-0029604  0.033339              487    K.Cousins"
      ]
     },
     "execution_count": 152,
     "metadata": {},
     "output_type": "execute_result"
    }
   ],
   "source": [
    "#Top 5 --\n",
    "by_qb.sort_values(by='CPOE',ascending=False).head(5)"
   ]
  },
  {
   "cell_type": "code",
   "execution_count": 154,
   "metadata": {},
   "outputs": [
    {
     "data": {
      "text/html": [
       "<div>\n",
       "<style scoped>\n",
       "    .dataframe tbody tr th:only-of-type {\n",
       "        vertical-align: middle;\n",
       "    }\n",
       "\n",
       "    .dataframe tbody tr th {\n",
       "        vertical-align: top;\n",
       "    }\n",
       "\n",
       "    .dataframe thead th {\n",
       "        text-align: right;\n",
       "    }\n",
       "</style>\n",
       "<table border=\"1\" class=\"dataframe\">\n",
       "  <thead>\n",
       "    <tr style=\"text-align: right;\">\n",
       "      <th></th>\n",
       "      <th>CPOE</th>\n",
       "      <th>Num of Attempts</th>\n",
       "      <th>QB</th>\n",
       "    </tr>\n",
       "    <tr>\n",
       "      <th>player_id</th>\n",
       "      <th></th>\n",
       "      <th></th>\n",
       "      <th></th>\n",
       "    </tr>\n",
       "  </thead>\n",
       "  <tbody>\n",
       "    <tr>\n",
       "      <th>00-0034343</th>\n",
       "      <td>-0.135073</td>\n",
       "      <td>107</td>\n",
       "      <td>J.Rosen</td>\n",
       "    </tr>\n",
       "    <tr>\n",
       "      <th>00-0035040</th>\n",
       "      <td>-0.120190</td>\n",
       "      <td>169</td>\n",
       "      <td>D.Blough</td>\n",
       "    </tr>\n",
       "    <tr>\n",
       "      <th>00-0035289</th>\n",
       "      <td>-0.049373</td>\n",
       "      <td>461</td>\n",
       "      <td>G.Minshew</td>\n",
       "    </tr>\n",
       "    <tr>\n",
       "      <th>00-0033119</th>\n",
       "      <td>-0.049354</td>\n",
       "      <td>432</td>\n",
       "      <td>J.Brissett</td>\n",
       "    </tr>\n",
       "    <tr>\n",
       "      <th>00-0032268</th>\n",
       "      <td>-0.040921</td>\n",
       "      <td>153</td>\n",
       "      <td>M.Mariota</td>\n",
       "    </tr>\n",
       "  </tbody>\n",
       "</table>\n",
       "</div>"
      ],
      "text/plain": [
       "                CPOE  Num of Attempts          QB\n",
       "player_id                                        \n",
       "00-0034343 -0.135073              107     J.Rosen\n",
       "00-0035040 -0.120190              169    D.Blough\n",
       "00-0035289 -0.049373              461   G.Minshew\n",
       "00-0033119 -0.049354              432  J.Brissett\n",
       "00-0032268 -0.040921              153   M.Mariota"
      ]
     },
     "execution_count": 154,
     "metadata": {},
     "output_type": "execute_result"
    }
   ],
   "source": [
    "#Bottom 5 --\n",
    "by_qb.sort_values(by='CPOE',ascending=True).head(5)"
   ]
  },
  {
   "cell_type": "code",
   "execution_count": 156,
   "metadata": {},
   "outputs": [
    {
     "data": {
      "text/html": [
       "<div>\n",
       "<style scoped>\n",
       "    .dataframe tbody tr th:only-of-type {\n",
       "        vertical-align: middle;\n",
       "    }\n",
       "\n",
       "    .dataframe tbody tr th {\n",
       "        vertical-align: top;\n",
       "    }\n",
       "\n",
       "    .dataframe thead th {\n",
       "        text-align: right;\n",
       "    }\n",
       "</style>\n",
       "<table border=\"1\" class=\"dataframe\">\n",
       "  <thead>\n",
       "    <tr style=\"text-align: right;\">\n",
       "      <th></th>\n",
       "      <th>Feature</th>\n",
       "      <th>Feature Importance</th>\n",
       "    </tr>\n",
       "  </thead>\n",
       "  <tbody>\n",
       "    <tr>\n",
       "      <th>0</th>\n",
       "      <td>air_yards</td>\n",
       "      <td>0.382990</td>\n",
       "    </tr>\n",
       "    <tr>\n",
       "      <th>10</th>\n",
       "      <td>yardstosticks</td>\n",
       "      <td>0.216922</td>\n",
       "    </tr>\n",
       "    <tr>\n",
       "      <th>14</th>\n",
       "      <td>targ_OTHER</td>\n",
       "      <td>0.157048</td>\n",
       "    </tr>\n",
       "    <tr>\n",
       "      <th>1</th>\n",
       "      <td>yardline_100</td>\n",
       "      <td>0.104314</td>\n",
       "    </tr>\n",
       "    <tr>\n",
       "      <th>8</th>\n",
       "      <td>temp</td>\n",
       "      <td>0.027142</td>\n",
       "    </tr>\n",
       "    <tr>\n",
       "      <th>7</th>\n",
       "      <td>wind</td>\n",
       "      <td>0.020589</td>\n",
       "    </tr>\n",
       "    <tr>\n",
       "      <th>3</th>\n",
       "      <td>ydstogo</td>\n",
       "      <td>0.018063</td>\n",
       "    </tr>\n",
       "    <tr>\n",
       "      <th>2</th>\n",
       "      <td>down_3</td>\n",
       "      <td>0.016423</td>\n",
       "    </tr>\n",
       "    <tr>\n",
       "      <th>4</th>\n",
       "      <td>air_is_zero</td>\n",
       "      <td>0.013786</td>\n",
       "    </tr>\n",
       "    <tr>\n",
       "      <th>13</th>\n",
       "      <td>era_3</td>\n",
       "      <td>0.008208</td>\n",
       "    </tr>\n",
       "    <tr>\n",
       "      <th>15</th>\n",
       "      <td>targ_RB</td>\n",
       "      <td>0.006779</td>\n",
       "    </tr>\n",
       "    <tr>\n",
       "      <th>5</th>\n",
       "      <td>tipped</td>\n",
       "      <td>0.006598</td>\n",
       "    </tr>\n",
       "    <tr>\n",
       "      <th>6</th>\n",
       "      <td>2min_warning</td>\n",
       "      <td>0.005656</td>\n",
       "    </tr>\n",
       "    <tr>\n",
       "      <th>11</th>\n",
       "      <td>era_1</td>\n",
       "      <td>0.005020</td>\n",
       "    </tr>\n",
       "    <tr>\n",
       "      <th>17</th>\n",
       "      <td>targ_WR</td>\n",
       "      <td>0.003983</td>\n",
       "    </tr>\n",
       "    <tr>\n",
       "      <th>16</th>\n",
       "      <td>targ_TE</td>\n",
       "      <td>0.003481</td>\n",
       "    </tr>\n",
       "    <tr>\n",
       "      <th>9</th>\n",
       "      <td>home</td>\n",
       "      <td>0.002268</td>\n",
       "    </tr>\n",
       "    <tr>\n",
       "      <th>12</th>\n",
       "      <td>era_2</td>\n",
       "      <td>0.000732</td>\n",
       "    </tr>\n",
       "  </tbody>\n",
       "</table>\n",
       "</div>"
      ],
      "text/plain": [
       "          Feature  Feature Importance\n",
       "0       air_yards            0.382990\n",
       "10  yardstosticks            0.216922\n",
       "14     targ_OTHER            0.157048\n",
       "1    yardline_100            0.104314\n",
       "8            temp            0.027142\n",
       "7            wind            0.020589\n",
       "3         ydstogo            0.018063\n",
       "2          down_3            0.016423\n",
       "4     air_is_zero            0.013786\n",
       "13          era_3            0.008208\n",
       "15        targ_RB            0.006779\n",
       "5          tipped            0.006598\n",
       "6    2min_warning            0.005656\n",
       "11          era_1            0.005020\n",
       "17        targ_WR            0.003983\n",
       "16        targ_TE            0.003481\n",
       "9            home            0.002268\n",
       "12          era_2            0.000732"
      ]
     },
     "execution_count": 156,
     "metadata": {},
     "output_type": "execute_result"
    }
   ],
   "source": [
    "feat = pd.DataFrame(data={\n",
    "    'Feature':features.values,\n",
    "    'Feature Importance':gsearch.best_estimator_.feature_importances_}\n",
    "            ).sort_values(by='Feature Importance',ascending=False)\n",
    "feat"
   ]
  },
  {
   "cell_type": "code",
   "execution_count": 157,
   "metadata": {},
   "outputs": [
    {
     "data": {
      "image/png": "[encoded data removed]",
      "text/plain": [
       "<Figure size 720x432 with 1 Axes>"
      ]
     },
     "metadata": {
      "needs_background": "light"
     },
     "output_type": "display_data"
    }
   ],
   "source": [
    "import matplotlib.pyplot as plt\n",
    "x = np.arange(len(feat))\n",
    "importance = feat['Feature Importance']\n",
    "\n",
    "plt.figure(figsize=(10,6))\n",
    "\n",
    "plt.bar(x, importance)\n",
    "\n",
    "plt.xticks(x, feat['Feature'].values)\n",
    "\n",
    "plt.title(\"Predicting Pass Completion\")\n",
    "plt.xticks(rotation=60)\n",
    "plt.ylabel(\"Feature Importance\")\n",
    "plt.savefig('feature_importnce.png', dpi=600, bbox_inches='tight')\n",
    "\n",
    "plt.show()"
   ]
  }
 ],
 "metadata": {
  "kernelspec": {
   "display_name": "Python 3",
   "language": "python",
   "name": "python3"
  },
  "language_info": {
   "codemirror_mode": {
    "name": "ipython",
    "version": 3
   },
   "file_extension": ".py",
   "mimetype": "text/x-python",
   "name": "python",
   "nbconvert_exporter": "python",
   "pygments_lexer": "ipython3",
   "version": "3.7.6"
  }
 },
 "nbformat": 4,
 "nbformat_minor": 2
}
