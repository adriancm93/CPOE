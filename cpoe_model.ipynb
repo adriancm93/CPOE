{
 "cells": [
  {
   "cell_type": "code",
   "execution_count": 83,
   "metadata": {},
   "outputs": [],
   "source": [
    "import pandas as pd\n",
    "import numpy as np\n",
    "import math\n",
    "from matplotlib import pyplot\n",
    "from sklearn.preprocessing import MinMaxScaler,StandardScaler\n",
    "from sklearn.model_selection import GridSearchCV, cross_val_score, cross_val_predict,train_test_split\n",
    "import datetime\n",
    "from  sklearn.ensemble import GradientBoostingClassifier\n",
    "from sklearn.metrics import f1_score\n",
    "from sklearn.metrics import accuracy_score\n",
    "from sklearn.metrics import roc_curve\n",
    "from sklearn.metrics import roc_auc_score\n",
    "import warnings as wp\n",
    "wp.filterwarnings(\"ignore\")"
   ]
  },
  {
   "cell_type": "markdown",
   "metadata": {},
   "source": [
    "**Get Data**"
   ]
  },
  {
   "cell_type": "code",
   "execution_count": 2,
   "metadata": {},
   "outputs": [],
   "source": [
    "#Lee --\n",
    "# Don't run if note needed, go to Pre-processed data\n",
    "lee_data=pd.read_csv(\"https://raw.githubusercontent.com/leesharpe/nfldata/master/data/games.csv\", low_memory=False)\n",
    "lee_data['temp'].fillna(72,inplace=True)\n",
    "lee_data['wind'].fillna(lee_data['wind'].min(),inplace=True)\n",
    "lee_data['game_id'] = lee_data['old_game_id']\n",
    "lee_data.set_index('game_id',inplace=True)\n",
    "temp_dic = lee_data['temp'].to_dict()\n",
    "roof_dic = lee_data['roof'].to_dict()\n",
    "wind_dic = lee_data['wind'].to_dict()"
   ]
  },
  {
   "cell_type": "code",
   "execution_count": 3,
   "metadata": {},
   "outputs": [],
   "source": [
    "#Roster --\n",
    "# Don't run if note needed, go to Pre-processed data\n",
    "roster = pd.read_csv('https://raw.githubusercontent.com/guga31bb/nflfastR-data/master/roster-data/roster.csv') \n",
    "roster.rename(columns={'teamPlayers.positionGroup':'position','teamPlayers.gsisId':'rec_id'},inplace=True)\n",
    "roster = roster[['rec_id','position']]\n",
    "roster = roster.drop_duplicates()\n",
    "roster=roster.set_index('rec_id')\n",
    "pos_dic=roster.to_dict()['position']"
   ]
  },
  {
   "cell_type": "code",
   "execution_count": 4,
   "metadata": {},
   "outputs": [],
   "source": [
    "#PBP --\n",
    "# Don't run if note needed, go to Pre-processed data instead\n",
    "# years = range(2006,2020)\n",
    "# data = pd.DataFrame()\n",
    "# for i in years:  \n",
    "#     i_data = pd.read_csv(\n",
    "#         'https://github.com/guga31bb/nflfastR-data/blob/master/legacy-data/play_by_play_' + str(i) + '.csv.gz?raw=True',\n",
    "#         compression='gzip', \n",
    "#         low_memory=False)\n",
    "#     data = data.append(i_data, sort=True)\n",
    "# data.to_csv('raw.csv',index=False)"
   ]
  },
  {
   "cell_type": "markdown",
   "metadata": {},
   "source": [
    "**Data Prep**"
   ]
  },
  {
   "cell_type": "code",
   "execution_count": 120,
   "metadata": {},
   "outputs": [],
   "source": [
    "data=pd.read_csv(r'C:\\Users\\adrian-boss\\Documents\\heavy_data\\raw.csv')\n",
    "# Don't run if not needed, go to Pre-processed data\n",
    "\n",
    "#Clean --\n",
    "data = data[(data['play_type'] == 'pass') & \n",
    "            (data['epa'].isna()==False) & \n",
    "            (data['qb_kneel'] == 0.) &\n",
    "            (data['qb_scramble'] == 0.) &\n",
    "            (data['qb_spike'] == 0.) &\n",
    "            (data['penalty'] == 0.) &\n",
    "            (data['sack'] == 0.)\n",
    "           ]\n",
    "\n",
    "#Merge data\n",
    "data['rec_pos'] = data['receiver_id'].map(pos_dic)\n",
    "data['temp']=data['game_id'].map(temp_dic)\n",
    "data['roof']=data['game_id'].map(roof_dic)\n",
    "data['wind']=data['game_id'].map(wind_dic)\n",
    "\n",
    "#Mutations --\n",
    "data['targ'] = 'OTHER'\n",
    "for p in ['WR','TE','RB','FB']:\n",
    "    data.loc[data['rec_pos'] == p,'targ'] = p\n",
    "data['tipped'] = 0\n",
    "data.loc[data['desc'].str.contains('tip'),'tipped'] = 1\n",
    "data[\"air_is_zero\"]= np.where(data[\"air_yards\"]==0, 1, 0)\n",
    "data['home'] = np.where(data[\"home_team\"] == data[\"posteam\"], 1, 0)\n",
    "data[\"2min_warning\"]= np.where(data[\"half_seconds_remaining\"]<121, 1, 0)\n",
    "data[\"outdoor\"]=np.where((data[\"roof\"]=='outdoors') | (data[\"roof\"]=='open'), 1, 0)\n",
    "data['yardstosticks'] = data['air_yards'] - data['ydstogo'] \n",
    "data['era'] = '3'\n",
    "data.loc[data['season'].isin(range(2006,2013+1)),'era'] = '1'\n",
    "data.loc[data['season'].isin(range(2014,2017+1)),'era'] = '2'\n",
    "data['down_3'] = 0\n",
    "data.loc[data['down'] == 3.0,'down_3'] = 1\n",
    "\n",
    "data=data[[\n",
    "    'targ','complete_pass', 'air_yards','qb_hit','yardline_100',\n",
    "    'down_3','ydstogo','air_is_zero','outdoor','home','tipped',\n",
    "    '2min_warning','season','passer_player_name','passer_player_id',\n",
    "    'wp','temp','ep','wind','yardstosticks','era']]\n",
    "\n",
    "data.to_csv(\"data_prep.csv\",index=False)"
   ]
  },
  {
   "cell_type": "markdown",
   "metadata": {},
   "source": [
    "**Pre-processed data**"
   ]
  },
  {
   "cell_type": "code",
   "execution_count": 121,
   "metadata": {},
   "outputs": [],
   "source": [
    "# Read this prepared dataset to save time --\n",
    "data=pd.read_csv(\"data_prep.csv\")"
   ]
  },
  {
   "cell_type": "markdown",
   "metadata": {},
   "source": [
    "**Prepare analyisis**"
   ]
  },
  {
   "cell_type": "code",
   "execution_count": 129,
   "metadata": {},
   "outputs": [],
   "source": [
    "#Prepare QB names dictionary for resuts\n",
    "dic_names=data[['passer_player_id','passer_player_name']].set_index('passer_player_id').to_dict()['passer_player_name']\n",
    "\n",
    "#Select variables and drop NAs --\n",
    "varis=['targ','complete_pass', 'air_yards','qb_hit','yardline_100',\n",
    "       'down_3','ydstogo','air_is_zero','outdoor','tipped',\n",
    "       '2min_warning','season','passer_player_name','passer_player_id',\n",
    "       'wind','era','yardstosticks','temp']\n",
    "\n",
    "#Variables to test: \n",
    "# wp (need to filter for no OT)\n",
    "# Altitude\n",
    "# EP\n",
    "X=data[varis].copy()\n",
    "X=X.dropna()\n",
    "X.reset_index(drop=True,inplace=True)\n",
    "X['complete_pass']=X['complete_pass'].astype(int)\n",
    "\n",
    "#t=pd.get_dummies(X['season'],columns='seas',prefix='seas')\n",
    "#X=pd.concat([X, t], axis=1)\n",
    "#for out-of-sample we will treat 2019 as 2018 (and so forth for future years {2020:2019} for example)\n",
    "#X.drop(['seas_2019','seas_2018'],axis=1,inplace= True)\n",
    "\n",
    "t=pd.get_dummies(X['era'],columns='era',prefix='era')\n",
    "X=pd.concat([X, t], axis=1)\n",
    "X.drop(['era'],axis=1,inplace= True)\n",
    "\n",
    "t=pd.get_dummies(X['targ'],columns='targ',prefix='targ')\n",
    "X=pd.concat([X, t], axis=1)\n",
    "X.drop(['targ'],axis=1,inplace= True)\n",
    "\n",
    "#Save for results\n",
    "QB= X[['passer_player_name','passer_player_id','season']]\n",
    "X.drop(['passer_player_name','passer_player_id'],axis=1,inplace=True)\n",
    "\n",
    "#Train/test\n",
    "out_of_sample_test = X[X['season'] == 2019]\n",
    "X_train = X[X['season'] < 2019]\n",
    "\n",
    "Y_train = X_train['complete_pass']\n",
    "X_train.drop(['season','complete_pass'],axis=1,inplace=True)\n",
    "\n",
    "X_CV = X_train.sample(n=50000, replace=False, random_state=0)\n",
    "Y_CV = Y_train.sample(n=50000, replace=False, random_state=0)\n",
    "\n",
    "Y_out_of_sample_test = out_of_sample_test['complete_pass']\n",
    "out_of_sample_test.drop(['season','complete_pass',],axis=1,inplace=True)\n",
    "\n",
    "features = X_train.columns\n",
    "\n",
    "#Scale data --\n",
    "scaler = MinMaxScaler()\n",
    "X_train = scaler.fit_transform(X_train)\n",
    "X_CV = scaler.fit_transform(X_CV)\n",
    "out_of_sample_test = scaler.transform(out_of_sample_test)"
   ]
  },
  {
   "cell_type": "markdown",
   "metadata": {},
   "source": [
    "**Hyper-Parameter Tunning using Grid Search Cross-validation**\n",
    "\n",
    "*Used F1 last time, will try accuracy next*\n",
    "\n",
    "**CV Grid Searched**\n",
    "        \n",
    "|Parameter|Searched|\n",
    "|------|------|\n",
    "|'min_samples_split'|[695,700,705]|\n",
    "|'min_samples_leaf'|[50,70,90]|\n",
    "|'max_depth'|[1,2,4]|\n",
    "|'n_estimators'|[60,70,80]|\n",
    "|'subsample'|[.7,.8,.9]\n",
    "|'learning_rate'|[.01,.05,.1]|\n",
    "|'max_features'|['auto']|\n",
    "\n",
    "*Run-time: 4:11:45.456278*\n",
    "\n",
    "**Results**\n",
    "\n",
    "|Parameter|Best|\n",
    "|------|------|\n",
    "|'learning_rate'| 0.01| \n",
    "|'max_depth'| 4|\n",
    "|'max_features'| 'auto'| \n",
    "|'min_samples_leaf'| 50| \n",
    "|'min_samples_split'| 695| \n",
    "|'n_estimators'| 80|\n",
    "|'subsample'| 0.9|\n",
    "\n",
    "*Still need to tune 'learning_rate'*"
   ]
  },
  {
   "cell_type": "code",
   "execution_count": 74,
   "metadata": {},
   "outputs": [
    {
     "name": "stdout",
     "output_type": "stream",
     "text": [
      "Run-time: 4:11:45.456278\n"
     ]
    }
   ],
   "source": [
    "a = datetime.datetime.now()\n",
    "\n",
    "#I already grid searched and tuned the model so I am adding the final outputs\n",
    "param_test1={'min_samples_split':[695,700,705], #if you want to grid serach diff parameters just add more values here, example\n",
    "             'min_samples_leaf':[50,70,90],    # 'min_samples_split':[705,700,710] (same for the other parameters)\n",
    "             'max_depth':[1,2,4],\n",
    "             'n_estimators':[60,70,80],\n",
    "             'subsample':[.7,.8,.9], # subsampe < 1 is making the algorithm a stochastic gradient boosting\n",
    "             'learning_rate':[.01,.05,.1],\n",
    "             'max_features':['auto']\n",
    "            }\n",
    "\n",
    "#Set grid-search --\n",
    "gsearch1 = GridSearchCV(\n",
    "    GradientBoostingClassifier(random_state=0), \n",
    "    param_grid = param_test1, \n",
    "    scoring='accuracy',\n",
    "    n_jobs=-1, \n",
    "    cv=4)  # When tunning new hyper-parameters, you will have to use more CV folds (change cv=5, maybe more)\n",
    "\n",
    "#fit model --\n",
    "gsearch1.fit(X_CV,Y_CV\n",
    "\n",
    "b = datetime.datetime.now()\n",
    "print('Run-time:',b - a)\n",
    "\n",
    "gsearch1.best_params_"
   ]
  },
  {
   "cell_type": "markdown",
   "metadata": {},
   "source": [
    "**Train Results**"
   ]
  },
  {
   "cell_type": "code",
   "execution_count": 97,
   "metadata": {},
   "outputs": [
    {
     "data": {
      "text/plain": [
       "{'learning_rate': 0.01,\n",
       " 'max_depth': 4,\n",
       " 'max_features': 'auto',\n",
       " 'min_samples_leaf': 50,\n",
       " 'min_samples_split': 695,\n",
       " 'n_estimators': 80,\n",
       " 'subsample': 0.9}"
      ]
     },
     "execution_count": 97,
     "metadata": {},
     "output_type": "execute_result"
    }
   ],
   "source": [
    "gsearch1.best_params_"
   ]
  },
  {
   "cell_type": "code",
   "execution_count": 103,
   "metadata": {},
   "outputs": [
    {
     "data": {
      "text/plain": [
       "GradientBoostingClassifier(ccp_alpha=0.0, criterion='friedman_mse', init=None,\n",
       "                           learning_rate=0.01, loss='deviance', max_depth=4,\n",
       "                           max_features='auto', max_leaf_nodes=None,\n",
       "                           min_impurity_decrease=0.0, min_impurity_split=None,\n",
       "                           min_samples_leaf=50, min_samples_split=695,\n",
       "                           min_weight_fraction_leaf=0.0, n_estimators=80,\n",
       "                           n_iter_no_change=None, presort='deprecated',\n",
       "                           random_state=0, subsample=0.9, tol=0.0001,\n",
       "                           validation_fraction=0.1, verbose=0,\n",
       "                           warm_start=False)"
      ]
     },
     "execution_count": 103,
     "metadata": {},
     "output_type": "execute_result"
    }
   ],
   "source": [
    "gb = GradientBoostingClassifier(random_state=0,\n",
    "                           learning_rate= 0.01,\n",
    "                           max_depth= 4,\n",
    "                           max_features= 'auto',\n",
    "                           min_samples_leaf= 50,\n",
    "                           min_samples_split= 695,\n",
    "                           n_estimators=80,\n",
    "                           subsample= 0.9)\n",
    "gb.fit(X_train,Y_train)"
   ]
  },
  {
   "cell_type": "code",
   "execution_count": 104,
   "metadata": {},
   "outputs": [
    {
     "data": {
      "text/plain": [
       "array([[0.31138713, 0.68861287],\n",
       "       [0.31268116, 0.68731884],\n",
       "       [0.35603829, 0.64396171],\n",
       "       ...,\n",
       "       [0.31403699, 0.68596301],\n",
       "       [0.39766408, 0.60233592],\n",
       "       [0.46939666, 0.53060334]])"
      ]
     },
     "execution_count": 104,
     "metadata": {},
     "output_type": "execute_result"
    }
   ],
   "source": [
    "gb.predict_proba(X_train)"
   ]
  },
  {
   "cell_type": "code",
   "execution_count": 76,
   "metadata": {},
   "outputs": [
    {
     "name": "stdout",
     "output_type": "stream",
     "text": [
      "GBC in-sample F1 score: \n",
      "77.99%\n",
      "In-sample RMSE: \n",
      "46.25%\n"
     ]
    }
   ],
   "source": [
    "#Estmate probabilities --\n",
    "train_res=pd.DataFrame(gsearch1.predict_proba(X_train)).rename(columns={1:'CP'}).drop(columns=0)\n",
    "train_res['Outcome'] = Y_train\n",
    "train_res['CPOE'] = train_res['Outcome'] - train_res['CP']\n",
    "se = (train_res['CPOE']**2)\n",
    "mse = se.values.mean()\n",
    "rmse = math.sqrt(mse)\n",
    "\n",
    "print('GBC in-sample F1 score: \\n{:.2%}'.format(f1_score(Y_train,gsearch1.predict(X_train)),4))\n",
    "print(\"In-sample RMSE: \\n{:.2%}\".format(rmse,4))"
   ]
  },
  {
   "cell_type": "code",
   "execution_count": 85,
   "metadata": {},
   "outputs": [
    {
     "data": {
      "text/plain": [
       "(0.6724294106990346, 4)"
      ]
     },
     "execution_count": 85,
     "metadata": {},
     "output_type": "execute_result"
    }
   ],
   "source": [
    "accuracy_score(Y_train,gsearch1.predict(X_train)),4"
   ]
  },
  {
   "cell_type": "markdown",
   "metadata": {},
   "source": [
    "**Test Results**"
   ]
  },
  {
   "cell_type": "code",
   "execution_count": 77,
   "metadata": {},
   "outputs": [
    {
     "name": "stdout",
     "output_type": "stream",
     "text": [
      "Gradient Boosting Classifier out-of-sample F1 score: \n",
      "80.02%\n",
      "Out-of-sample RMSE: \n",
      "45.21%\n",
      "\n",
      "The Out-of-sample had better results in terms of F1 metric which suggests model could be improved (add more variables?)\n"
     ]
    }
   ],
   "source": [
    "#Estimate prob of test set\n",
    "test_res=pd.DataFrame(gsearch1.predict_proba(out_of_sample_test)).rename(columns={1:'CP'}).drop(columns=0)\n",
    "test_res['Outcome'] = Y_out_of_sample_test.reset_index(drop=True)\n",
    "test_res['CPOE'] = test_res['Outcome'] - test_res['CP']\n",
    "tse = (test_res['CPOE']**2)\n",
    "tmse = tse.values.mean()\n",
    "trmse = math.sqrt(tmse)\n",
    "trmse #Not much difference\n",
    "\n",
    "print('Gradient Boosting Classifier out-of-sample F1 score: \\n{:.2%}'.format(f1_score(Y_out_of_sample_test,gsearch1.predict(out_of_sample_test)),4))\n",
    "\n",
    "print('Out-of-sample RMSE: \\n{:.2%}'.format(trmse,4))\n",
    "\n",
    "print(\"\\nThe Out-of-sample had better results in terms of F1 metric which suggests model could be improved (add more variables?)\")"
   ]
  },
  {
   "cell_type": "code",
   "execution_count": 94,
   "metadata": {},
   "outputs": [
    {
     "data": {
      "text/plain": [
       "0.6176801173413261"
      ]
     },
     "execution_count": 94,
     "metadata": {},
     "output_type": "execute_result"
    }
   ],
   "source": [
    "data['complete_pass'].mean()"
   ]
  },
  {
   "cell_type": "code",
   "execution_count": 78,
   "metadata": {
    "scrolled": false
   },
   "outputs": [
    {
     "name": "stdout",
     "output_type": "stream",
     "text": [
      "No Skill: ROC AUC=0.500\n",
      "GBC: ROC AUC=0.731\n",
      "Beautiful looking ROC curve\n"
     ]
    },
    {
     "data": {
      "image/png": "[encoded data removed]",
      "text/plain": [
       "<Figure size 648x576 with 1 Axes>"
      ]
     },
     "metadata": {
      "needs_background": "light"
     },
     "output_type": "display_data"
    }
   ],
   "source": [
    "# calculate roc curve\n",
    "#Code from: https://machinelearningmastery.com/roc-curves-and-precision-recall-curves-for-classification-in-python/\n",
    "lr_probs = gsearch1.predict_proba(out_of_sample_test)[:, 1]\n",
    "ns_probs = [0 for _ in range(len(Y_out_of_sample_test))]\n",
    "\n",
    "ns_auc = roc_auc_score(Y_out_of_sample_test, ns_probs)\n",
    "lr_auc = roc_auc_score(Y_out_of_sample_test, lr_probs)\n",
    "\n",
    "# summarize scores\n",
    "print('No Skill: ROC AUC=%.3f' % (ns_auc))\n",
    "print('GBC: ROC AUC=%.3f' % (lr_auc))\n",
    "\n",
    "print('Beautiful looking ROC curve')\n",
    "# calculate roc curves\n",
    "ns_fpr, ns_tpr, _ = roc_curve(Y_out_of_sample_test, ns_probs)\n",
    "lr_fpr, lr_tpr, _ = roc_curve(Y_out_of_sample_test, lr_probs)\n",
    "\n",
    "# plot the roc curve for the model\n",
    "pyplot.figure(figsize=(9,8))\n",
    "pyplot.plot(ns_fpr, ns_tpr, linestyle='--', label='No Skill')\n",
    "pyplot.plot(lr_fpr, lr_tpr, marker='.', label='GBC')\n",
    "\n",
    "# axis labels\n",
    "pyplot.xlabel('False Positive Rate')\n",
    "pyplot.ylabel('True Positive Rate')\n",
    "\n",
    "# show the legend\n",
    "pyplot.legend()\n",
    "\n",
    "# show the plot\n",
    "pyplot.show()"
   ]
  },
  {
   "cell_type": "code",
   "execution_count": 79,
   "metadata": {},
   "outputs": [],
   "source": [
    "#Summarise results --\n",
    "qb19 = QB[QB['season'] == 2019].reset_index(drop=True)\n",
    "out_sample_res = pd.concat([test_res,qb19],axis=1)\n",
    "by_qb = out_sample_res.groupby(\n",
    "    'passer_player_id').agg(\n",
    "    {\n",
    "        'CPOE':'mean',\n",
    "        'season':'count', \n",
    "        }).rename(columns={'season':'Num_of_Attempts'}).reset_index()\n",
    "by_qb['QB'] = by_qb['passer_player_id'].map(dic_names)\n",
    "summ = by_qb[by_qb['Num_of_Attempts'] >= 100]"
   ]
  },
  {
   "cell_type": "code",
   "execution_count": 89,
   "metadata": {},
   "outputs": [
    {
     "data": {
      "text/html": [
       "<div>\n",
       "<style scoped>\n",
       "    .dataframe tbody tr th:only-of-type {\n",
       "        vertical-align: middle;\n",
       "    }\n",
       "\n",
       "    .dataframe tbody tr th {\n",
       "        vertical-align: top;\n",
       "    }\n",
       "\n",
       "    .dataframe thead th {\n",
       "        text-align: right;\n",
       "    }\n",
       "</style>\n",
       "<table border=\"1\" class=\"dataframe\">\n",
       "  <thead>\n",
       "    <tr style=\"text-align: right;\">\n",
       "      <th></th>\n",
       "      <th>passer_player_id</th>\n",
       "      <th>CPOE</th>\n",
       "      <th>Num_of_Attempts</th>\n",
       "      <th>QB</th>\n",
       "    </tr>\n",
       "  </thead>\n",
       "  <tbody>\n",
       "    <tr>\n",
       "      <th>63</th>\n",
       "      <td>00-0033077</td>\n",
       "      <td>0.038237</td>\n",
       "      <td>579</td>\n",
       "      <td>D.Prescott</td>\n",
       "    </tr>\n",
       "  </tbody>\n",
       "</table>\n",
       "</div>"
      ],
      "text/plain": [
       "   passer_player_id      CPOE  Num_of_Attempts          QB\n",
       "63       00-0033077  0.038237              579  D.Prescott"
      ]
     },
     "execution_count": 89,
     "metadata": {},
     "output_type": "execute_result"
    }
   ],
   "source": [
    "by_qb[by_qb['QB'] == 'D.Prescott']"
   ]
  },
  {
   "cell_type": "code",
   "execution_count": 80,
   "metadata": {},
   "outputs": [
    {
     "data": {
      "text/html": [
       "<div>\n",
       "<style scoped>\n",
       "    .dataframe tbody tr th:only-of-type {\n",
       "        vertical-align: middle;\n",
       "    }\n",
       "\n",
       "    .dataframe tbody tr th {\n",
       "        vertical-align: top;\n",
       "    }\n",
       "\n",
       "    .dataframe thead th {\n",
       "        text-align: right;\n",
       "    }\n",
       "</style>\n",
       "<table border=\"1\" class=\"dataframe\">\n",
       "  <thead>\n",
       "    <tr style=\"text-align: right;\">\n",
       "      <th></th>\n",
       "      <th>passer_player_id</th>\n",
       "      <th>CPOE</th>\n",
       "      <th>Num_of_Attempts</th>\n",
       "      <th>QB</th>\n",
       "    </tr>\n",
       "  </thead>\n",
       "  <tbody>\n",
       "    <tr>\n",
       "      <th>1</th>\n",
       "      <td>00-0020531</td>\n",
       "      <td>0.132894</td>\n",
       "      <td>401</td>\n",
       "      <td>D.Brees</td>\n",
       "    </tr>\n",
       "    <tr>\n",
       "      <th>46</th>\n",
       "      <td>00-0031280</td>\n",
       "      <td>0.082243</td>\n",
       "      <td>503</td>\n",
       "      <td>D.Carr</td>\n",
       "    </tr>\n",
       "    <tr>\n",
       "      <th>35</th>\n",
       "      <td>00-0029701</td>\n",
       "      <td>0.079495</td>\n",
       "      <td>337</td>\n",
       "      <td>R.Tannehill</td>\n",
       "    </tr>\n",
       "    <tr>\n",
       "      <th>31</th>\n",
       "      <td>00-0029604</td>\n",
       "      <td>0.070155</td>\n",
       "      <td>487</td>\n",
       "      <td>K.Cousins</td>\n",
       "    </tr>\n",
       "    <tr>\n",
       "      <th>29</th>\n",
       "      <td>00-0029263</td>\n",
       "      <td>0.067777</td>\n",
       "      <td>568</td>\n",
       "      <td>R.Wilson</td>\n",
       "    </tr>\n",
       "  </tbody>\n",
       "</table>\n",
       "</div>"
      ],
      "text/plain": [
       "   passer_player_id      CPOE  Num_of_Attempts           QB\n",
       "1        00-0020531  0.132894              401      D.Brees\n",
       "46       00-0031280  0.082243              503       D.Carr\n",
       "35       00-0029701  0.079495              337  R.Tannehill\n",
       "31       00-0029604  0.070155              487    K.Cousins\n",
       "29       00-0029263  0.067777              568     R.Wilson"
      ]
     },
     "execution_count": 80,
     "metadata": {},
     "output_type": "execute_result"
    }
   ],
   "source": [
    "#Top 5 --\n",
    "summ.sort_values(by='CPOE',ascending=False).head(5)"
   ]
  },
  {
   "cell_type": "code",
   "execution_count": 81,
   "metadata": {},
   "outputs": [
    {
     "data": {
      "text/html": [
       "<div>\n",
       "<style scoped>\n",
       "    .dataframe tbody tr th:only-of-type {\n",
       "        vertical-align: middle;\n",
       "    }\n",
       "\n",
       "    .dataframe tbody tr th {\n",
       "        vertical-align: top;\n",
       "    }\n",
       "\n",
       "    .dataframe thead th {\n",
       "        text-align: right;\n",
       "    }\n",
       "</style>\n",
       "<table border=\"1\" class=\"dataframe\">\n",
       "  <thead>\n",
       "    <tr style=\"text-align: right;\">\n",
       "      <th></th>\n",
       "      <th>passer_player_id</th>\n",
       "      <th>CPOE</th>\n",
       "      <th>Num_of_Attempts</th>\n",
       "      <th>QB</th>\n",
       "    </tr>\n",
       "  </thead>\n",
       "  <tbody>\n",
       "    <tr>\n",
       "      <th>78</th>\n",
       "      <td>00-0034343</td>\n",
       "      <td>-0.085803</td>\n",
       "      <td>107</td>\n",
       "      <td>J.Rosen</td>\n",
       "    </tr>\n",
       "    <tr>\n",
       "      <th>91</th>\n",
       "      <td>00-0035040</td>\n",
       "      <td>-0.081416</td>\n",
       "      <td>169</td>\n",
       "      <td>D.Blough</td>\n",
       "    </tr>\n",
       "    <tr>\n",
       "      <th>93</th>\n",
       "      <td>00-0035232</td>\n",
       "      <td>-0.029310</td>\n",
       "      <td>201</td>\n",
       "      <td>D.Haskins</td>\n",
       "    </tr>\n",
       "    <tr>\n",
       "      <th>86</th>\n",
       "      <td>00-0034857</td>\n",
       "      <td>-0.019122</td>\n",
       "      <td>490</td>\n",
       "      <td>J.Allen</td>\n",
       "    </tr>\n",
       "    <tr>\n",
       "      <th>96</th>\n",
       "      <td>00-0035289</td>\n",
       "      <td>-0.018418</td>\n",
       "      <td>461</td>\n",
       "      <td>G.Minshew</td>\n",
       "    </tr>\n",
       "  </tbody>\n",
       "</table>\n",
       "</div>"
      ],
      "text/plain": [
       "   passer_player_id      CPOE  Num_of_Attempts         QB\n",
       "78       00-0034343 -0.085803              107    J.Rosen\n",
       "91       00-0035040 -0.081416              169   D.Blough\n",
       "93       00-0035232 -0.029310              201  D.Haskins\n",
       "86       00-0034857 -0.019122              490    J.Allen\n",
       "96       00-0035289 -0.018418              461  G.Minshew"
      ]
     },
     "execution_count": 81,
     "metadata": {},
     "output_type": "execute_result"
    }
   ],
   "source": [
    "#Bottom 5 --\n",
    "summ.sort_values(by='CPOE',ascending=True).head(5)"
   ]
  },
  {
   "cell_type": "code",
   "execution_count": 86,
   "metadata": {},
   "outputs": [
    {
     "data": {
      "text/html": [
       "<div>\n",
       "<style scoped>\n",
       "    .dataframe tbody tr th:only-of-type {\n",
       "        vertical-align: middle;\n",
       "    }\n",
       "\n",
       "    .dataframe tbody tr th {\n",
       "        vertical-align: top;\n",
       "    }\n",
       "\n",
       "    .dataframe thead th {\n",
       "        text-align: right;\n",
       "    }\n",
       "</style>\n",
       "<table border=\"1\" class=\"dataframe\">\n",
       "  <thead>\n",
       "    <tr style=\"text-align: right;\">\n",
       "      <th></th>\n",
       "      <th>Feature</th>\n",
       "      <th>Feature Importance</th>\n",
       "    </tr>\n",
       "  </thead>\n",
       "  <tbody>\n",
       "    <tr>\n",
       "      <th>0</th>\n",
       "      <td>air_yards</td>\n",
       "      <td>0.421652</td>\n",
       "    </tr>\n",
       "    <tr>\n",
       "      <th>10</th>\n",
       "      <td>yardstosticks</td>\n",
       "      <td>0.232780</td>\n",
       "    </tr>\n",
       "    <tr>\n",
       "      <th>1</th>\n",
       "      <td>qb_hit</td>\n",
       "      <td>0.162133</td>\n",
       "    </tr>\n",
       "    <tr>\n",
       "      <th>13</th>\n",
       "      <td>targ_OTHER</td>\n",
       "      <td>0.083204</td>\n",
       "    </tr>\n",
       "    <tr>\n",
       "      <th>2</th>\n",
       "      <td>yardline_100</td>\n",
       "      <td>0.081416</td>\n",
       "    </tr>\n",
       "    <tr>\n",
       "      <th>5</th>\n",
       "      <td>air_is_zero</td>\n",
       "      <td>0.013681</td>\n",
       "    </tr>\n",
       "    <tr>\n",
       "      <th>4</th>\n",
       "      <td>ydstogo</td>\n",
       "      <td>0.003749</td>\n",
       "    </tr>\n",
       "    <tr>\n",
       "      <th>8</th>\n",
       "      <td>2min_warning</td>\n",
       "      <td>0.000816</td>\n",
       "    </tr>\n",
       "    <tr>\n",
       "      <th>14</th>\n",
       "      <td>targ_RB</td>\n",
       "      <td>0.000285</td>\n",
       "    </tr>\n",
       "    <tr>\n",
       "      <th>11</th>\n",
       "      <td>era_1</td>\n",
       "      <td>0.000198</td>\n",
       "    </tr>\n",
       "    <tr>\n",
       "      <th>15</th>\n",
       "      <td>targ_TE</td>\n",
       "      <td>0.000078</td>\n",
       "    </tr>\n",
       "    <tr>\n",
       "      <th>9</th>\n",
       "      <td>wind</td>\n",
       "      <td>0.000009</td>\n",
       "    </tr>\n",
       "    <tr>\n",
       "      <th>3</th>\n",
       "      <td>down_3</td>\n",
       "      <td>0.000000</td>\n",
       "    </tr>\n",
       "    <tr>\n",
       "      <th>6</th>\n",
       "      <td>outdoor</td>\n",
       "      <td>0.000000</td>\n",
       "    </tr>\n",
       "    <tr>\n",
       "      <th>7</th>\n",
       "      <td>tipped</td>\n",
       "      <td>0.000000</td>\n",
       "    </tr>\n",
       "    <tr>\n",
       "      <th>12</th>\n",
       "      <td>era_3</td>\n",
       "      <td>0.000000</td>\n",
       "    </tr>\n",
       "  </tbody>\n",
       "</table>\n",
       "</div>"
      ],
      "text/plain": [
       "          Feature  Feature Importance\n",
       "0       air_yards            0.421652\n",
       "10  yardstosticks            0.232780\n",
       "1          qb_hit            0.162133\n",
       "13     targ_OTHER            0.083204\n",
       "2    yardline_100            0.081416\n",
       "5     air_is_zero            0.013681\n",
       "4         ydstogo            0.003749\n",
       "8    2min_warning            0.000816\n",
       "14        targ_RB            0.000285\n",
       "11          era_1            0.000198\n",
       "15        targ_TE            0.000078\n",
       "9            wind            0.000009\n",
       "3          down_3            0.000000\n",
       "6         outdoor            0.000000\n",
       "7          tipped            0.000000\n",
       "12          era_3            0.000000"
      ]
     },
     "execution_count": 86,
     "metadata": {},
     "output_type": "execute_result"
    }
   ],
   "source": [
    "pd.DataFrame(data={\n",
    "    'Feature':features.values,\n",
    "    'Feature Importance':gsearch1.best_estimator_.feature_importances_}\n",
    "            ).sort_values(by='Feature Importance',ascending=False)"
   ]
  }
 ],
 "metadata": {
  "kernelspec": {
   "display_name": "Python 3",
   "language": "python",
   "name": "python3"
  },
  "language_info": {
   "codemirror_mode": {
    "name": "ipython",
    "version": 3
   },
   "file_extension": ".py",
   "mimetype": "text/x-python",
   "name": "python",
   "nbconvert_exporter": "python",
   "pygments_lexer": "ipython3",
   "version": "3.7.6"
  }
 },
 "nbformat": 4,
 "nbformat_minor": 2
}
