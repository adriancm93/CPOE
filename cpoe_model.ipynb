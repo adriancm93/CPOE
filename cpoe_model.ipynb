{
 "cells": [
  {
   "cell_type": "code",
   "execution_count": 1,
   "metadata": {},
   "outputs": [],
   "source": [
    "# Load packages --\n",
    "import pandas as pd\n",
    "import numpy as np\n",
    "import math\n",
    "from matplotlib import pyplot\n",
    "import matplotlib.pyplot as plt\n",
    "from sklearn.preprocessing import MinMaxScaler,StandardScaler\n",
    "from sklearn.model_selection import GridSearchCV, cross_val_score, cross_val_predict,train_test_split\n",
    "from sklearn.model_selection import train_test_split\n",
    "import datetime\n",
    "from  sklearn.ensemble import GradientBoostingClassifier\n",
    "from sklearn.metrics import accuracy_score\n",
    "from sklearn.metrics import roc_curve\n",
    "from sklearn.metrics import roc_auc_score\n",
    "from sklearn.metrics import log_loss\n",
    "from sklearn import datasets, linear_model\n",
    "from sklearn.metrics import mean_squared_error, r2_score\n",
    "import warnings as wp\n",
    "wp.filterwarnings(\"ignore\")"
   ]
  },
  {
   "cell_type": "markdown",
   "metadata": {},
   "source": [
    "**Get Data**"
   ]
  },
  {
   "cell_type": "code",
   "execution_count": 3,
   "metadata": {},
   "outputs": [],
   "source": [
    "#Lee --\n",
    "# Don't run if note needed, go to Pre-processed data\n",
    "lee_data=pd.read_csv(\"https://raw.githubusercontent.com/leesharpe/nfldata/master/data/games.csv\", low_memory=False)\n",
    "lee_data=lee_data.loc[lee_data['season'] >= 2006,]\n",
    "lee_data['temp'].fillna(72,inplace=True)\n",
    "lee_data['wind'].fillna(lee_data['wind'].min(),inplace=True)\n",
    "lee_data['game_id'] = lee_data['old_game_id']\n",
    "lee_data.set_index('game_id',inplace=True)\n",
    "elev_dic = pd.read_csv('elev_dic.csv').set_index('stadium_id').to_dict()['elevation_feet']\n",
    "lee_data['elevation'] = lee_data['stadium_id'].map(elev_dic)\n",
    "temp_dic = lee_data['temp'].to_dict()\n",
    "roof_dic = lee_data['roof'].to_dict()\n",
    "wind_dic = lee_data['wind'].to_dict()\n",
    "elevation_dic = lee_data['elevation'].to_dict()"
   ]
  },
  {
   "cell_type": "code",
   "execution_count": 28,
   "metadata": {},
   "outputs": [],
   "source": [
    "#Roster --\n",
    "# Don't run if note needed, go to Pre-processed data\n",
    "roster = pd.read_csv('https://raw.githubusercontent.com/guga31bb/nflfastR-data/master/roster-data/roster.csv') \n",
    "full_name = roster[['teamPlayers.gsisId','teamPlayers.displayName']].set_index('teamPlayers.gsisId')\n",
    "full_name=full_name['teamPlayers.displayName'].to_dict()\n",
    "roster.rename(columns={'teamPlayers.positionGroup':'position','teamPlayers.gsisId':'rec_id'},inplace=True)\n",
    "roster = roster[['rec_id','position']]\n",
    "roster = roster.drop_duplicates()\n",
    "roster=roster.set_index('rec_id')\n",
    "pos_dic=roster.to_dict()['position']"
   ]
  },
  {
   "cell_type": "code",
   "execution_count": 5,
   "metadata": {},
   "outputs": [],
   "source": [
    "#PBP --\n",
    "# Don't run if note needed, go to Pre-processed data instead\n",
    "# years = range(2006,2020)\n",
    "# data = pd.DataFrame()\n",
    "# for i in years:  \n",
    "#     i_data = pd.read_csv(\n",
    "#         'https://github.com/guga31bb/nflfastR-data/blob/master/legacy-data/play_by_play_' + str(i) + '.csv.gz?raw=True',\n",
    "#         compression='gzip', \n",
    "#         low_memory=False)\n",
    "#     data = data.append(i_data, sort=True)\n",
    "# data.to_csv(r\"C:\\Users\\adrian-boss\\Documents\\heavy_data\\raw.csv\",index=False)"
   ]
  },
  {
   "cell_type": "markdown",
   "metadata": {},
   "source": [
    "**Data Prep**"
   ]
  },
  {
   "cell_type": "code",
   "execution_count": 89,
   "metadata": {},
   "outputs": [],
   "source": [
    "data=pd.read_csv(r'C:\\Users\\adrian-boss\\Documents\\heavy_data\\raw.csv')\n",
    "# Don't run if not needed, go to Pre-processed data\n",
    "#Clean --\n",
    "data = data[\n",
    "    (data['play_type'] == 'pass') & \n",
    "    (data['epa'].isna()==False) & \n",
    "    (data['qb_kneel'] == 0.0) &\n",
    "    (data['qb_scramble'] == 0.0) &\n",
    "    (data['qb_spike'] == 0.0) &\n",
    "    (data['penalty'] == 0.0) &\n",
    "    (data['sack'] == 0.0)\n",
    "]\n",
    "#Merge data\n",
    "data['rec_pos'] = data['receiver_id'].map(pos_dic)\n",
    "data['temp']=data['game_id'].map(temp_dic)\n",
    "data['roof']=data['game_id'].map(roof_dic)\n",
    "data['wind']=data['game_id'].map(wind_dic)\n",
    "data['elevation']=data['game_id'].map(elevation_dic)\n",
    "#Mutations --\n",
    "data['targ'] = 'OTHER'\n",
    "for p in ['WR','TE','RB']:\n",
    "    data.loc[data['rec_pos'] == p,'targ'] = p\n",
    "data['tipped'] = 0\n",
    "data.loc[data['desc'].str.contains('tip'),'tipped'] = 1\n",
    "data[\"air_is_zero\"]= np.where(data[\"air_yards\"]==0, 1, 0)\n",
    "data['home'] = np.where(data[\"home_team\"] == data[\"posteam\"], 1, 0)\n",
    "data[\"2min_warning\"]= np.where(data[\"half_seconds_remaining\"]<121, 1, 0)\n",
    "data[\"outdoor\"]=np.where((data[\"roof\"]=='outdoors') | (data[\"roof\"]=='open'), 1, 0)\n",
    "data['yardstosticks'] = data['air_yards'] - data['ydstogo'] \n",
    "data['era'] = '3'\n",
    "data.loc[data['season'].isin(range(2006,2013+1)),'era'] = '1'\n",
    "data.loc[data['season'].isin(range(2014,2017+1)),'era'] = '2'\n",
    "data['down_3'] = 0\n",
    "data.loc[data['down'] == 3.0,'down_3'] = 1\n",
    "data['high'] = 0\n",
    "data.loc[data['elevation']>=data['elevation'].quantile(q=0.95),'high'] = 1\n",
    "#Select columns\n",
    "data=data[['play_id','game_id','passer_player_id','passer_player_name',\n",
    "       'complete_pass', 'air_yards','qb_hit','yardline_100','pass_location',\n",
    "       'down','ydstogo','wp','air_is_zero','ep','outdoor','home','tipped','qtr',\n",
    "       '2min_warning','season','era','targ','elevation','high','temp','wind']]\n",
    "\n",
    "data.to_csv(\"data_prep.csv\",index=False)"
   ]
  },
  {
   "cell_type": "markdown",
   "metadata": {},
   "source": [
    "**Prepare analyisis**"
   ]
  },
  {
   "cell_type": "code",
   "execution_count": 235,
   "metadata": {},
   "outputs": [],
   "source": [
    "# Read this prepared dataset to save time --\n",
    "data=pd.read_csv(\"data_prep.csv\")\n",
    "\n",
    "#Select variables and drop NAs --\n",
    "varis=['play_id','game_id','passer_player_id','passer_player_name',\n",
    "       'complete_pass', 'air_yards','qb_hit','yardline_100','pass_location',\n",
    "       'down','ydstogo','wp','air_is_zero','ep','outdoor','home','tipped','qtr',\n",
    "       '2min_warning','season','era','targ']\n",
    "\n",
    "data=data[varis]\n",
    "data=data.dropna()\n",
    "\n",
    "# Prepare Index --\n",
    "data['id'] = data['game_id'].astype(str) + '_'+ data['play_id'].astype(str)\n",
    "data.set_index('id',drop=True,inplace=True)\n",
    "\n",
    "# Dummies --\n",
    "t = pd.get_dummies(data['era'],columns='era',prefix='era')\n",
    "data = pd.concat([data, t], axis=1)\n",
    "t=pd.get_dummies(data['targ'],columns='targ',prefix='targ')\n",
    "data=pd.concat([data, t], axis=1)\n",
    "data.drop(columns=['targ','targ_OTHER'],axis=1,inplace= True)\n",
    "t=pd.get_dummies(data['down'],columns='down',prefix='down')\n",
    "data=pd.concat([data, t], axis=1)\n",
    "data.drop(['down'],axis=1,inplace= True)\n",
    "t=pd.get_dummies(data['qtr'],columns='qtr',prefix='qtr')\n",
    "data=pd.concat([data, t], axis=1)\n",
    "data.drop(['qtr'],axis=1,inplace= True)\n",
    "t=pd.get_dummies(data['pass_location'],columns='pass',prefix='pass')\n",
    "data=pd.concat([data, t], axis=1)\n",
    "data.drop(['pass_location'],axis=1,inplace= True)\n",
    "\n",
    "# Prepare Sample --\n",
    "era1=data[data['era'] == 1].sample(n=round(30000), replace=False, random_state=1)\n",
    "era2=data[data['era'] == 2].sample(n=round(30000), replace=False, random_state=1)\n",
    "era3=data[data['era'] == 3].sample(n=round(30000), replace=False, random_state=1)\n",
    "sample = pd.concat([era1,era2,era3],axis=0)\n",
    "sample.drop(['era','game_id','play_id','season', 'passer_player_name','passer_player_id'],axis=1,inplace= True)\n",
    "\n",
    "# Split train test -- \n",
    "Y = sample['complete_pass']\n",
    "X = sample.drop(columns='complete_pass')\n",
    "x, x_test, y, y_test = train_test_split(X, Y, test_size=0.2, random_state = 10)\n",
    "# Feature names --\n",
    "features = X.columns\n",
    "#Scale data --\n",
    "scaler = MinMaxScaler()\n",
    "x = scaler.fit_transform(x)\n",
    "x_test = scaler.transform(x_test)"
   ]
  },
  {
   "cell_type": "code",
   "execution_count": 220,
   "metadata": {},
   "outputs": [
    {
     "name": "stdout",
     "output_type": "stream",
     "text": [
      "Train: (199031, 29)\n",
      "Test: (49758, 29)\n",
      "Comp: (18129, 29)\n"
     ]
    }
   ],
   "source": [
    "print('Train:',x.shape)\n",
    "print('Test:',x_test.shape)\n",
    "print('Comp:',x_comparisson.shape)"
   ]
  },
  {
   "cell_type": "markdown",
   "metadata": {},
   "source": [
    "**Hyper-Parameter Tunning using Grid Search Cross-validation**\n",
    "\n",
    "\n",
    "*Used accuracy*\n",
    "    \n",
    "**CV Grid Searched**\n",
    "        \n",
    "param_test = {\n",
    "    'min_samples_split':[690,695,700],\n",
    "    'min_samples_leaf':[50,60,70],  \n",
    "    'max_depth':[4,5,6],\n",
    "    'n_estimators':[80,90,100]\n",
    "}\n",
    "\n",
    "param_test = {\n",
    "    'min_samples_split':[680,685,690],\n",
    "    'min_samples_leaf':[40,45,50],  \n",
    "    'max_depth':[5,6,7],\n",
    "    'n_estimators':[90,100,110],\n",
    "    'subsample' : [.8,.9,1],\n",
    "    'learning_rate' : [.05,.1,]\n",
    "}\n",
    "\n",
    "\n",
    "|Parameter|last|last-1|last-2|\n",
    "|------|------|------|------|\n",
    "|'min_samples_split'|[690,695,700]|[690,695]|[695,700,705]|\n",
    "|'min_samples_leaf'|[50,60,70]|[50,60]|[50,70,90]|\n",
    "|'max_depth'|[4,5,6]|[4,5]|[1,2,4]|\n",
    "|'n_estimators'|[80,90,100]|[80,90]|[60,70,80]|\n",
    "|'subsample'|[.8]|[.8]|[.7,.8,.9]|\n",
    "|'learning_rate'|[.1]|[.1]|[.01,.05,.1]|\n",
    "|'max_features'|['auto']|['auto']|['auto']|\n",
    "\n",
    "*Run-time: Run-time: 0:42:46.053289*\n",
    "\n",
    "{'max_depth': 5,\n",
    " 'min_samples_leaf': 50,\n",
    " 'min_samples_split': 690,\n",
    " 'n_estimators': 90}\n",
    " \n",
    " {'learning_rate': 0.05,\n",
    " 'max_depth': 7,\n",
    " 'min_samples_leaf': 45,\n",
    " 'min_samples_split': 685,\n",
    " 'n_estimators': 90,\n",
    " 'subsample': 0.8}\n",
    " \n",
    " \n",
    "**Results**\n",
    "\n",
    "|Parameter|Best|Best-1|Best-2\n",
    "|------|------|------|------|\n",
    "|'learning_rate'|0.1|.1| 0.1| \n",
    "|'max_depth'|5|5|4|\n",
    "|'max_features'|'auto'|'auto'|'auto'| \n",
    "|'min_samples_leaf'|50|50|50| \n",
    "|'min_samples_split'|695|695|695| \n",
    "|'n_estimators'|90|90|80|\n",
    "|'subsample'|0.8|0.8|0.8|\n",
    " \n",
    " \n",
    " Run-time: 3:49:58.399384\n",
    "{'learning_rate': 0.05,\n",
    " 'max_depth': 6,\n",
    " 'min_samples_leaf': 45,\n",
    " 'min_samples_split': 685,\n",
    " 'n_estimators': 110,\n",
    " 'subsample': 0.9}\n",
    " \n",
    " \n",
    "*Still need to tune 'learning_rate'*"
   ]
  },
  {
   "cell_type": "code",
   "execution_count": 194,
   "metadata": {},
   "outputs": [
    {
     "name": "stdout",
     "output_type": "stream",
     "text": [
      "Run-time: 0:00:59.323153\n"
     ]
    },
    {
     "data": {
      "text/plain": [
       "{'learning_rate': 0.1,\n",
       " 'max_depth': 4,\n",
       " 'max_features': 'auto',\n",
       " 'min_samples_leaf': 75,\n",
       " 'min_samples_split': 705,\n",
       " 'n_estimators': 85,\n",
       " 'subsample': 0.8}"
      ]
     },
     "execution_count": 194,
     "metadata": {},
     "output_type": "execute_result"
    }
   ],
   "source": [
    "a = datetime.datetime.now()\n",
    "# Set params to test --\n",
    "param_test = {'min_samples_split':[705], \n",
    "             'min_samples_leaf':[75],   \n",
    "             'max_depth':[4],\n",
    "             'n_estimators':[85],\n",
    "             'subsample':[.8],\n",
    "             'learning_rate':[.1],\n",
    "             'max_features':['auto']\n",
    "            }\n",
    "# Set grid-search --\n",
    "gsearch = GridSearchCV(\n",
    "    GradientBoostingClassifier(\n",
    "        random_state=0,\n",
    "        max_features='auto'\n",
    "    ), \n",
    "    param_grid = param_test, \n",
    "    scoring='neg_log_loss',\n",
    "    n_jobs=-1, \n",
    "    cv=2)  \n",
    "#Run search --\n",
    "gsearch.fit(x,y)\n",
    "b = datetime.datetime.now()\n",
    "print('Run-time:',b - a)\n",
    "#CV Results\n",
    "gsearch.best_params_"
   ]
  },
  {
   "cell_type": "markdown",
   "metadata": {},
   "source": [
    "**Train Results**"
   ]
  },
  {
   "cell_type": "code",
   "execution_count": 195,
   "metadata": {},
   "outputs": [
    {
     "name": "stdout",
     "output_type": "stream",
     "text": [
      "Gradient Boosting Classifier train accuracy score: \n",
      "69.62%\n",
      "Train RMSE: \n",
      "44.90%\n",
      "Train MSE: \n",
      "20.16%\n"
     ]
    }
   ],
   "source": [
    "# Estimate prob - train set --\n",
    "ytrain_prob = gsearch.predict_proba(x)[:, 1]\n",
    "ytrain_hat = gsearch.predict(x)\n",
    "train=pd.DataFrame(data={'CP':ytrain_prob,'Predicted':ytrain_hat},index=y.index)\n",
    "train['Outcome'] = y\n",
    "train['CPOE'] = train['Outcome'] - train['CP']\n",
    "se_t = train['CPOE']**2\n",
    "mse_t = se_t.values.mean()\n",
    "rmse_t = math.sqrt(mse_t)\n",
    "train_accuracy = accuracy_score(y.values,ytrain_hat)\n",
    "# Print Results --\n",
    "print('Gradient Boosting Classifier train accuracy score: \\n{:.2%}'.format(train_accuracy))\n",
    "print('Train RMSE: \\n{:.2%}'.format(rmse_t))\n",
    "print('Train MSE: \\n{:.2%}'.format(mse_t))"
   ]
  },
  {
   "cell_type": "markdown",
   "metadata": {},
   "source": [
    "Gradient Boosting Classifier train accuracy score: \n",
    "69.77%\n",
    "Train RMSE: \n",
    "44.79%\n",
    "Train MSE: \n",
    "20.06%"
   ]
  },
  {
   "cell_type": "markdown",
   "metadata": {},
   "source": [
    "**Test Results**"
   ]
  },
  {
   "cell_type": "code",
   "execution_count": 209,
   "metadata": {},
   "outputs": [
    {
     "name": "stdout",
     "output_type": "stream",
     "text": [
      "Gradient Boosting Classifier test accuracy score: \n",
      "69.05%\n",
      "Test RMSE: \n",
      "45.10%\n",
      "Test MSE: \n",
      "20.34%\n"
     ]
    }
   ],
   "source": [
    "# Estimate prob - test set --\n",
    "ytest_prob = gsearch.predict_proba(x_test)[:, 1]\n",
    "ytest_hat = gsearch.predict(x_test)\n",
    "test = pd.DataFrame(data={'CP':ytest_prob,'Predicted':ytest_hat},index= y_test.index)\n",
    "test['Outcome'] = y_test\n",
    "test['CPOE'] = test['Outcome'] - test['CP']\n",
    "se = test['CPOE']**2\n",
    "mse = se.values.mean()\n",
    "rmse = math.sqrt(mse)\n",
    "test_accuracy = accuracy_score(y_test.values,ytest_hat)\n",
    "# Print Results --\n",
    "print('Gradient Boosting Classifier test accuracy score: \\n{:.2%}'.format(test_accuracy,4))\n",
    "print('Test RMSE: \\n{:.2%}'.format(rmse))\n",
    "print('Test MSE: \\n{:.2%}'.format(mse))"
   ]
  },
  {
   "cell_type": "markdown",
   "metadata": {},
   "source": [
    "Gradient Boosting Classifier test accuracy score: \n",
    "69.77%\n",
    "Test RMSE: \n",
    "44.75%\n",
    "Test MSE: \n",
    "20.03%"
   ]
  },
  {
   "cell_type": "code",
   "execution_count": 210,
   "metadata": {
    "scrolled": false
   },
   "outputs": [
    {
     "name": "stdout",
     "output_type": "stream",
     "text": [
      "No Skill: ROC AUC=0.50\n",
      "GBC: ROC AUC=0.72\n"
     ]
    },
    {
     "data": {
      "image/png": "[encoded data removed]",
      "text/plain": [
       "<Figure size 648x576 with 1 Axes>"
      ]
     },
     "metadata": {
      "needs_background": "light"
     },
     "output_type": "display_data"
    }
   ],
   "source": [
    "# calculate roc curve\n",
    "#Code from: https://machinelearningmastery.com/roc-curves-and-precision-recall-curves-for-classification-in-python/\n",
    "lr_probs = gsearch.predict_proba(x_test)[:, 1]\n",
    "ns_probs = [0 for _ in range(len(x_test))]\n",
    "ns_auc = roc_auc_score(y_test, ns_probs)\n",
    "lr_auc = roc_auc_score(y_test, lr_probs)\n",
    "# summarize scores\n",
    "print('No Skill: ROC AUC=%.2f' % (ns_auc))\n",
    "print('GBC: ROC AUC=%.2f' % (lr_auc))\n",
    "# calculate roc curves\n",
    "ns_fpr, ns_tpr, _ = roc_curve(y_test, ns_probs)\n",
    "lr_fpr, lr_tpr, _ = roc_curve(y_test, lr_probs)\n",
    "# plot the roc curve for the model\n",
    "pyplot.figure(figsize=(9,8))\n",
    "pyplot.plot(ns_fpr, ns_tpr, linestyle='--', label='No Skill')\n",
    "pyplot.plot(lr_fpr, lr_tpr, marker='.', label='GBC')\n",
    "# axis labels\n",
    "pyplot.xlabel('False Positive Rate')\n",
    "pyplot.ylabel('True Positive Rate')\n",
    "# show the legend\n",
    "pyplot.legend()\n",
    "# show the plot\n",
    "pyplot.show()"
   ]
  },
  {
   "cell_type": "code",
   "execution_count": 211,
   "metadata": {
    "scrolled": true
   },
   "outputs": [
    {
     "name": "stdout",
     "output_type": "stream",
     "text": [
      "         Feature  Feature Importance\n",
      "0      air_yards            0.554080\n",
      "1         qb_hit            0.136173\n",
      "2   yardline_100            0.107593\n",
      "14       targ_RB            0.038321\n",
      "27   pass_middle            0.030586\n",
      "5    air_is_zero            0.027988\n",
      "16       targ_WR            0.024200\n",
      "15       targ_TE            0.018392\n",
      "3        ydstogo            0.012053\n",
      "19      down_3.0            0.009621\n",
      "4             wp            0.008786\n",
      "6             ep            0.006686\n",
      "9         tipped            0.005525\n",
      "11         era_1            0.004245\n",
      "7        outdoor            0.003251\n",
      "28    pass_right            0.002858\n",
      "10  2min_warning            0.002107\n",
      "17      down_1.0            0.001867\n",
      "13         era_3            0.001559\n",
      "18      down_2.0            0.001458\n",
      "20      down_4.0            0.000794\n",
      "8           home            0.000586\n",
      "22         qtr_2            0.000380\n",
      "26     pass_left            0.000365\n",
      "24         qtr_4            0.000281\n",
      "21         qtr_1            0.000120\n",
      "23         qtr_3            0.000080\n",
      "25         qtr_5            0.000044\n",
      "12         era_2            0.000000\n"
     ]
    },
    {
     "data": {
      "image/png": "[encoded data removed]",
      "text/plain": [
       "<Figure size 720x432 with 1 Axes>"
      ]
     },
     "metadata": {
      "needs_background": "light"
     },
     "output_type": "display_data"
    }
   ],
   "source": [
    "# Feature importance --\n",
    "feat = pd.DataFrame(data={\n",
    "    'Feature':features.values,\n",
    "    'Feature Importance':gsearch.best_estimator_.feature_importances_}\n",
    "            ).sort_values(by='Feature Importance',ascending=False)\n",
    "print(feat)\n",
    "# Feature importance bar plot\n",
    "x = np.arange(len(feat))\n",
    "importance = feat['Feature Importance']\n",
    "plt.figure(figsize=(10,6))\n",
    "plt.bar(x, importance)\n",
    "plt.xticks(x, feat['Feature'].values)\n",
    "plt.title(\"Predicting Pass Completion\")\n",
    "plt.xticks(rotation=60)\n",
    "plt.ylabel(\"Feature Importance\")\n",
    "plt.savefig('feature_importnce.png', dpi=600, bbox_inches='tight')\n",
    "plt.show()"
   ]
  },
  {
   "cell_type": "markdown",
   "metadata": {},
   "source": [
    "**Comparing with NFL Next Gen Stats**"
   ]
  },
  {
   "cell_type": "code",
   "execution_count": 260,
   "metadata": {},
   "outputs": [],
   "source": [
    "# Prepare data\n",
    "seas_dic = data['season'].to_dict()\n",
    "fit_x = data.copy()\n",
    "fit_x_index = fit_x.index\n",
    "dic_names=fit_x[['passer_player_id','passer_player_name']].set_index('passer_player_id').to_dict()['passer_player_name']\n",
    "dic_passer=fit_x['passer_player_id'].to_dict()\n",
    "fit_y=fit_x['complete_pass'].astype(int)\n",
    "fit_x.drop(['complete_pass','era','game_id','play_id','season', 'passer_player_name','passer_player_id'],axis=1,inplace= True)\n",
    "#Scale data --\n",
    "scaler = MinMaxScaler()\n",
    "fit_x = scaler.fit_transform(fit_x)"
   ]
  },
  {
   "cell_type": "code",
   "execution_count": 259,
   "metadata": {},
   "outputs": [
    {
     "data": {
      "text/plain": [
       "GradientBoostingClassifier(ccp_alpha=0.0, criterion='friedman_mse', init=None,\n",
       "                           learning_rate=0.1, loss='deviance', max_depth=4,\n",
       "                           max_features='auto', max_leaf_nodes=None,\n",
       "                           min_impurity_decrease=0.0, min_impurity_split=None,\n",
       "                           min_samples_leaf=75, min_samples_split=705,\n",
       "                           min_weight_fraction_leaf=0.0, n_estimators=85,\n",
       "                           n_iter_no_change=None, presort='deprecated',\n",
       "                           random_state=0, subsample=0.8, tol=0.0001,\n",
       "                           validation_fraction=0.1, verbose=0,\n",
       "                           warm_start=False)"
      ]
     },
     "execution_count": 259,
     "metadata": {},
     "output_type": "execute_result"
    }
   ],
   "source": [
    "# Fit model\n",
    "gb = GradientBoostingClassifier(\n",
    "    random_state=0,\n",
    "    min_samples_split = 705,\n",
    "    min_samples_leaf = 75, \n",
    "    max_depth = 4,\n",
    "    n_estimators = 85,\n",
    "    subsample = .8,\n",
    "    learning_rate = .1,\n",
    "    max_features= 'auto')  \n",
    "gb.fit(fit_x,fit_y)"
   ]
  },
  {
   "cell_type": "code",
   "execution_count": 310,
   "metadata": {},
   "outputs": [
    {
     "name": "stdout",
     "output_type": "stream",
     "text": [
      "Gradient Boosting Classifier test accuracy score: \n",
      "71.98%\n",
      "Test RMSE: \n",
      "43.55%\n",
      "Test MSE: \n",
      "18.97%\n"
     ]
    }
   ],
   "source": [
    "# Estimate Probs --\n",
    "y_prob = gsearch.predict_proba(fit_x)[:, 1]\n",
    "y_hat = gsearch.predict(fit_x)\n",
    "comp_set = pd.DataFrame(\n",
    "    data={'CP':y_prob,'Predicted':y_hat.astype(int),'Outcome':fit_y},\n",
    "    index=fit_x_index\n",
    ")\n",
    "# Prepare set --\n",
    "comp_set['player_id'] = comp_set.index.map(dic_passer)\n",
    "comp_set['passer_name'] = comp_set['player_id'].map(full_name)\n",
    "comp_set['CPOE'] = comp_set['Outcome'] - comp_set['CP']\n",
    "comp_set['Season']=comp_set.index.map(seas_dic)\n",
    "comp_set = comp_set[comp_set['Season'] == 2019]\n",
    "# Metrics --\n",
    "se_c = comp_set['CPOE']**2\n",
    "mse_c = se_c.values.mean()\n",
    "rmse_c = math.sqrt(mse_c)\n",
    "comp_accuracy = accuracy_score(comp_set['Outcome'] ,comp_set['Predicted'] )\n",
    "print('Gradient Boosting Classifier test accuracy score: \\n{:.2%}'.format(comp_accuracy))\n",
    "print('Test RMSE: \\n{:.2%}'.format(rmse_c))\n",
    "print('Test MSE: \\n{:.2%}'.format(mse_c))"
   ]
  },
  {
   "cell_type": "code",
   "execution_count": 321,
   "metadata": {},
   "outputs": [],
   "source": [
    "# Summarize by QB\n",
    "by_qb = comp_set.groupby(\n",
    "    'player_id').agg(\n",
    "    {\n",
    "        'CPOE':'mean',\n",
    "        'CP':'count', \n",
    "        }).rename(columns={'CP':'Num of Attempts'})\n",
    "by_qb=by_qb[by_qb['Num of Attempts'] >= 100]\n",
    "by_qb['QB'] = by_qb.index.map(full_name)\n",
    "# Merge NFL NGS\n",
    "ngs = pd.read_csv('ngs.csv')\n",
    "by_qb = by_qb.merge(ngs,on='QB',how='left').dropna()\n",
    "by_qb=by_qb[['QB','Num of Attempts','CPOE','CPOE_NFL']]\n",
    "by_qb.sort_values(by='CPOE_NFL',ascending=False,inplace=True)\n",
    "by_qb['Rank'] = np.arange(1, len(by_qb) + 1)\n",
    "by_qb.set_index('Rank',inplace=True)"
   ]
  },
  {
   "cell_type": "code",
   "execution_count": 322,
   "metadata": {},
   "outputs": [
    {
     "data": {
      "text/html": [
       "<div>\n",
       "<style scoped>\n",
       "    .dataframe tbody tr th:only-of-type {\n",
       "        vertical-align: middle;\n",
       "    }\n",
       "\n",
       "    .dataframe tbody tr th {\n",
       "        vertical-align: top;\n",
       "    }\n",
       "\n",
       "    .dataframe thead th {\n",
       "        text-align: right;\n",
       "    }\n",
       "</style>\n",
       "<table border=\"1\" class=\"dataframe\">\n",
       "  <thead>\n",
       "    <tr style=\"text-align: right;\">\n",
       "      <th></th>\n",
       "      <th>QB</th>\n",
       "      <th>Num of Attempts</th>\n",
       "      <th>CPOE</th>\n",
       "      <th>CPOE_NFL</th>\n",
       "    </tr>\n",
       "    <tr>\n",
       "      <th>Rank</th>\n",
       "      <th></th>\n",
       "      <th></th>\n",
       "      <th></th>\n",
       "      <th></th>\n",
       "    </tr>\n",
       "  </thead>\n",
       "  <tbody>\n",
       "    <tr>\n",
       "      <th>1</th>\n",
       "      <td>Ryan Tannehill</td>\n",
       "      <td>337</td>\n",
       "      <td>0.068999</td>\n",
       "      <td>0.080</td>\n",
       "    </tr>\n",
       "    <tr>\n",
       "      <th>2</th>\n",
       "      <td>Drew Brees</td>\n",
       "      <td>401</td>\n",
       "      <td>0.082785</td>\n",
       "      <td>0.063</td>\n",
       "    </tr>\n",
       "    <tr>\n",
       "      <th>3</th>\n",
       "      <td>Kirk Cousins</td>\n",
       "      <td>487</td>\n",
       "      <td>0.037586</td>\n",
       "      <td>0.055</td>\n",
       "    </tr>\n",
       "    <tr>\n",
       "      <th>4</th>\n",
       "      <td>Russell Wilson</td>\n",
       "      <td>568</td>\n",
       "      <td>0.073154</td>\n",
       "      <td>0.048</td>\n",
       "    </tr>\n",
       "    <tr>\n",
       "      <th>5</th>\n",
       "      <td>Matthew Stafford</td>\n",
       "      <td>285</td>\n",
       "      <td>0.035564</td>\n",
       "      <td>0.034</td>\n",
       "    </tr>\n",
       "  </tbody>\n",
       "</table>\n",
       "</div>"
      ],
      "text/plain": [
       "                    QB  Num of Attempts      CPOE  CPOE_NFL\n",
       "Rank                                                       \n",
       "1       Ryan Tannehill              337  0.068999     0.080\n",
       "2           Drew Brees              401  0.082785     0.063\n",
       "3         Kirk Cousins              487  0.037586     0.055\n",
       "4       Russell Wilson              568  0.073154     0.048\n",
       "5     Matthew Stafford              285  0.035564     0.034"
      ]
     },
     "execution_count": 322,
     "metadata": {},
     "output_type": "execute_result"
    }
   ],
   "source": [
    "#Top 5 --\n",
    "by_qb.head(5)"
   ]
  },
  {
   "cell_type": "code",
   "execution_count": 323,
   "metadata": {},
   "outputs": [
    {
     "data": {
      "text/html": [
       "<div>\n",
       "<style scoped>\n",
       "    .dataframe tbody tr th:only-of-type {\n",
       "        vertical-align: middle;\n",
       "    }\n",
       "\n",
       "    .dataframe tbody tr th {\n",
       "        vertical-align: top;\n",
       "    }\n",
       "\n",
       "    .dataframe thead th {\n",
       "        text-align: right;\n",
       "    }\n",
       "</style>\n",
       "<table border=\"1\" class=\"dataframe\">\n",
       "  <thead>\n",
       "    <tr style=\"text-align: right;\">\n",
       "      <th></th>\n",
       "      <th>QB</th>\n",
       "      <th>Num of Attempts</th>\n",
       "      <th>CPOE</th>\n",
       "      <th>CPOE_NFL</th>\n",
       "    </tr>\n",
       "    <tr>\n",
       "      <th>Rank</th>\n",
       "      <th></th>\n",
       "      <th></th>\n",
       "      <th></th>\n",
       "      <th></th>\n",
       "    </tr>\n",
       "  </thead>\n",
       "  <tbody>\n",
       "    <tr>\n",
       "      <th>35</th>\n",
       "      <td>Josh Allen</td>\n",
       "      <td>490</td>\n",
       "      <td>-0.024258</td>\n",
       "      <td>-0.037</td>\n",
       "    </tr>\n",
       "    <tr>\n",
       "      <th>36</th>\n",
       "      <td>Jacoby Brissett</td>\n",
       "      <td>432</td>\n",
       "      <td>-0.031028</td>\n",
       "      <td>-0.040</td>\n",
       "    </tr>\n",
       "    <tr>\n",
       "      <th>37</th>\n",
       "      <td>Dwayne Haskins</td>\n",
       "      <td>201</td>\n",
       "      <td>-0.041997</td>\n",
       "      <td>-0.046</td>\n",
       "    </tr>\n",
       "    <tr>\n",
       "      <th>38</th>\n",
       "      <td>Gardner Minshew</td>\n",
       "      <td>461</td>\n",
       "      <td>-0.040105</td>\n",
       "      <td>-0.052</td>\n",
       "    </tr>\n",
       "    <tr>\n",
       "      <th>39</th>\n",
       "      <td>David Blough</td>\n",
       "      <td>169</td>\n",
       "      <td>-0.112416</td>\n",
       "      <td>-0.084</td>\n",
       "    </tr>\n",
       "  </tbody>\n",
       "</table>\n",
       "</div>"
      ],
      "text/plain": [
       "                   QB  Num of Attempts      CPOE  CPOE_NFL\n",
       "Rank                                                      \n",
       "35         Josh Allen              490 -0.024258    -0.037\n",
       "36    Jacoby Brissett              432 -0.031028    -0.040\n",
       "37     Dwayne Haskins              201 -0.041997    -0.046\n",
       "38    Gardner Minshew              461 -0.040105    -0.052\n",
       "39       David Blough              169 -0.112416    -0.084"
      ]
     },
     "execution_count": 323,
     "metadata": {},
     "output_type": "execute_result"
    }
   ],
   "source": [
    "#Bottom 5 --\n",
    "by_qb.tail(5)"
   ]
  },
  {
   "cell_type": "code",
   "execution_count": 324,
   "metadata": {},
   "outputs": [],
   "source": [
    "x=by_qb[['CPOE']]\n",
    "y=by_qb[['CPOE_NFL']]\n",
    "\n",
    "regr = linear_model.LinearRegression()\n",
    "regr.fit(x,y)\n",
    "\n",
    "# Make predictions using the testing set\n",
    "y_hat = regr.predict(x)"
   ]
  },
  {
   "cell_type": "code",
   "execution_count": 328,
   "metadata": {},
   "outputs": [
    {
     "name": "stdout",
     "output_type": "stream",
     "text": [
      "R2: 0.88\n"
     ]
    },
    {
     "data": {
      "image/png": "[encoded data removed]",
      "text/plain": [
       "<Figure size 648x504 with 1 Axes>"
      ]
     },
     "metadata": {
      "needs_background": "light"
     },
     "output_type": "display_data"
    }
   ],
   "source": [
    "print('R2: %.2f'\n",
    "      % r2_score(y, y_hat))\n",
    "# Plot outputs\n",
    "plt.figure(figsize=(9,7))\n",
    "plt.scatter(x, y,  color='gray')\n",
    "plt.plot(x, y_hat, color='orange', linewidth=1)\n",
    "plt.ylabel('NFL Next Gen Stats')\n",
    "plt.xlabel('My model')\n",
    "plt.show()"
   ]
  }
 ],
 "metadata": {
  "kernelspec": {
   "display_name": "Python 3",
   "language": "python",
   "name": "python3"
  },
  "language_info": {
   "codemirror_mode": {
    "name": "ipython",
    "version": 3
   },
   "file_extension": ".py",
   "mimetype": "text/x-python",
   "name": "python",
   "nbconvert_exporter": "python",
   "pygments_lexer": "ipython3",
   "version": "3.7.6"
  }
 },
 "nbformat": 4,
 "nbformat_minor": 2
}
