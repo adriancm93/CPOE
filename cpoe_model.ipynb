{
 "cells": [
  {
   "cell_type": "markdown",
   "metadata": {},
   "source": [
    "# Libraries"
   ]
  },
  {
   "cell_type": "code",
   "execution_count": 1,
   "metadata": {},
   "outputs": [],
   "source": [
    "# Load packages --\n",
    "import pandas as pd\n",
    "import numpy as np\n",
    "import math\n",
    "import datetime\n",
    "from matplotlib import pyplot as plt\n",
    "from sklearn.preprocessing import MinMaxScaler,StandardScaler\n",
    "from sklearn.model_selection import GridSearchCV,cross_val_score,cross_val_predict,train_test_split\n",
    "from  sklearn.ensemble import GradientBoostingClassifier\n",
    "from sklearn.metrics import accuracy_score,roc_curve,roc_auc_score,log_loss,r2_score\n",
    "from sklearn import linear_model\n",
    "import warnings as wp\n",
    "wp.filterwarnings(\"ignore\")"
   ]
  },
  {
   "cell_type": "markdown",
   "metadata": {},
   "source": [
    "# Pre-processing - Data retreival and cleaning"
   ]
  },
  {
   "cell_type": "markdown",
   "metadata": {},
   "source": [
    "**Get Data**"
   ]
  },
  {
   "cell_type": "code",
   "execution_count": 2,
   "metadata": {},
   "outputs": [],
   "source": [
    "#Game data (Lee Sharp data) --\n",
    "lee_data=pd.read_csv(\"https://raw.githubusercontent.com/leesharpe/nfldata/master/data/games.csv\", low_memory=False)\n",
    "lee_data=lee_data.loc[lee_data['season'] >= 2006,]\n",
    "lee_data['temp'].fillna(72,inplace=True)\n",
    "lee_data['wind'].fillna(lee_data['wind'].min(),inplace=True)\n",
    "lee_data['game_id'] = lee_data['old_game_id']\n",
    "lee_data.set_index('game_id',inplace=True)\n",
    "elev_dic = pd.read_csv('elev_dic.csv').set_index('stadium_id').to_dict()['elevation_feet']\n",
    "lee_data['elevation'] = lee_data['stadium_id'].map(elev_dic)\n",
    "temp_dic = lee_data['temp'].to_dict()\n",
    "roof_dic = lee_data['roof'].to_dict()\n",
    "wind_dic = lee_data['wind'].to_dict()\n",
    "elevation_dic = lee_data['elevation'].to_dict()\n",
    "#Roster Data (nfldastR)--\n",
    "roster = pd.read_csv('https://raw.githubusercontent.com/guga31bb/nflfastR-data/master/roster-data/roster.csv') \n",
    "#Full name dictionary\n",
    "full_name = roster[['teamPlayers.gsisId','teamPlayers.displayName']].set_index('teamPlayers.gsisId')\n",
    "full_name=full_name['teamPlayers.displayName'].to_dict()\n",
    "#Position dictionary\n",
    "roster.rename(columns={'teamPlayers.positionGroup':'position','teamPlayers.gsisId':'rec_id'},inplace=True)\n",
    "roster = roster[['rec_id','position']]\n",
    "roster = roster.drop_duplicates()\n",
    "roster=roster.set_index('rec_id')\n",
    "pos_dic=roster.to_dict()['position']"
   ]
  },
  {
   "cell_type": "markdown",
   "metadata": {},
   "source": [
    "**Lengthy, don't run if not needed, prepared data avilable in repo as ```data_prep.csv```**"
   ]
  },
  {
   "cell_type": "code",
   "execution_count": 5,
   "metadata": {},
   "outputs": [],
   "source": [
    "#Pplay-by-play (nfldastR) --\n",
    "years = range(2006,2020)\n",
    "data = pd.DataFrame()\n",
    "for i in years:  \n",
    "    i_data = pd.read_csv(\n",
    "        'https://github.com/guga31bb/nflfastR-data/blob/master/legacy-data/play_by_play_' + str(i) + '.csv.gz?raw=True',\n",
    "        compression='gzip', \n",
    "        low_memory=False)\n",
    "    data = data.append(i_data, sort=True)"
   ]
  },
  {
   "cell_type": "markdown",
   "metadata": {},
   "source": [
    "**Data Mutations**\n",
    "\n",
    "Don't run if not needed, prepared data avilable in repo as ```data_prep.csv```"
   ]
  },
  {
   "cell_type": "code",
   "execution_count": 216,
   "metadata": {},
   "outputs": [],
   "source": [
    "data=pd.read_csv(r'C:\\Users\\adrian-boss\\Documents\\heavy_data\\raw.csv')\n",
    "#Clean --\n",
    "data = data[\n",
    "    (data['play_type'] == 'pass') & \n",
    "    (data['epa'].isna()==False) & \n",
    "    (data['qb_kneel'] == 0.0) &\n",
    "    (data['qb_scramble'] == 0.0) &\n",
    "    (data['qb_spike'] == 0.0) &\n",
    "    (data['penalty'] == 0.0) &\n",
    "    (data['sack'] == 0.0)\n",
    "]\n",
    "#Merge data\n",
    "data['rec_pos'] = data['receiver_id'].map(pos_dic)\n",
    "data['temp']=data['game_id'].map(temp_dic)\n",
    "data['roof']=data['game_id'].map(roof_dic)\n",
    "data['wind']=data['game_id'].map(wind_dic)\n",
    "data['elevation']=data['game_id'].map(elevation_dic)\n",
    "#Mutations --\n",
    "data['targ'] = 'OTHER'\n",
    "for p in ['WR','TE','RB']:\n",
    "    data.loc[data['rec_pos'] == p,'targ'] = p\n",
    "data['tipped'] = 0\n",
    "data.loc[data['desc'].str.contains('tip'),'tipped'] = 1\n",
    "data[\"air_is_zero\"]= np.where(data[\"air_yards\"]==0, 1, 0)\n",
    "data['home'] = np.where(data[\"home_team\"] == data[\"posteam\"], 1, 0)\n",
    "data[\"2min_warning\"]= np.where(data[\"half_seconds_remaining\"]<121, 1, 0)\n",
    "data[\"outdoor\"]=np.where((data[\"roof\"]=='outdoors') | (data[\"roof\"]=='open'), 1, 0)\n",
    "data['yardstosticks'] = data['air_yards'] - data['ydstogo'] \n",
    "data['era'] = '3'\n",
    "data.loc[data['season'].isin(range(2006,2013+1)),'era'] = '1'\n",
    "data.loc[data['season'].isin(range(2014,2017+1)),'era'] = '2'\n",
    "data['down_3'] = 0\n",
    "data.loc[data['down'] == 3.0,'down_3'] = 1\n",
    "data['high'] = 0\n",
    "data.loc[data['elevation']>=data['elevation'].quantile(q=0.95),'high'] = 1\n",
    "#Select columns\n",
    "data=data[['play_id','game_id','passer_player_id','passer_player_name',\n",
    "       'complete_pass', 'air_yards','qb_hit','yardline_100','pass_location',\n",
    "       'down','ydstogo','wp','air_is_zero','ep','outdoor','home','tipped','qtr',\n",
    "       '2min_warning','season','era','targ','elevation','high','temp','wind']]\n",
    "\n",
    "data.to_csv(\"data_prep.csv\",index=False)"
   ]
  },
  {
   "cell_type": "markdown",
   "metadata": {},
   "source": [
    "# Analyisis"
   ]
  },
  {
   "cell_type": "markdown",
   "metadata": {},
   "source": [
    "**Prepare data for analysis: select features, train/test split, scale**"
   ]
  },
  {
   "cell_type": "code",
   "execution_count": 218,
   "metadata": {},
   "outputs": [
    {
     "name": "stdout",
     "output_type": "stream",
     "text": [
      "Train: 119,000 rows | 15 columns\n",
      "Test: 21,000 rows | 15 columns\n"
     ]
    }
   ],
   "source": [
    "# Read this prepared dataset to save time --\n",
    "data=pd.read_csv(\"data_prep.csv\")\n",
    "#Select variables for analysis and drop NAs --\n",
    "varis=['play_id','game_id','passer_player_id','passer_player_name',\n",
    "       'complete_pass', 'air_yards','qb_hit','yardline_100','pass_location',\n",
    "       'down','ydstogo','wp','air_is_zero','ep','outdoor','home','tipped','qtr',\n",
    "       '2min_warning','season','era','targ']\n",
    "data=data[varis] \n",
    "data=data.dropna()\n",
    "# Prepare Index --\n",
    "data['id'] = data['game_id'].astype(str) + '_'+ data['play_id'].astype(str)\n",
    "data.set_index('id',drop=True,inplace=True)\n",
    "# Dummies --\n",
    "t = pd.get_dummies(data['era'],columns='era',prefix='era')\n",
    "data = pd.concat([data, t], axis=1)\n",
    "t=pd.get_dummies(data['targ'],columns='targ',prefix='targ')\n",
    "data=pd.concat([data, t], axis=1)\n",
    "data.drop(columns=['targ','targ_OTHER'],axis=1,inplace= True)\n",
    "t=pd.get_dummies(data['down'],columns='down',prefix='down')\n",
    "data=pd.concat([data, t], axis=1)\n",
    "data.drop(['down'],axis=1,inplace= True)\n",
    "t=pd.get_dummies(data['qtr'],columns='qtr',prefix='qtr')\n",
    "data=pd.concat([data, t], axis=1)\n",
    "data.drop(['qtr'],axis=1,inplace= True)\n",
    "t=pd.get_dummies(data['pass_location'],columns='pass',prefix='pass')\n",
    "data=pd.concat([data, t], axis=1)\n",
    "data.drop(['pass_location'],axis=1,inplace= True)\n",
    "# Prepare Sample --\n",
    "era1=data[data['era'] == 1].sample(n=round(50000), replace=False, random_state=4)\n",
    "era2=data[data['era'] == 2].sample(n=round(55000), replace=False, random_state=9)\n",
    "era3=data[data['era'] == 3].sample(n=round(35000), replace=False, random_state=12)\n",
    "sample = pd.concat([era1,era2,era3],axis=0)\n",
    "sample.drop(['era','game_id','play_id','season', 'passer_player_name','passer_player_id'],axis=1,inplace= True)\n",
    "# Split train test -- \n",
    "Y = sample['complete_pass']\n",
    "X = sample.drop(columns='complete_pass')\n",
    "#Took out noisy variables (these were manually taken out during cross validation/tuning phase)\n",
    "drop = ['era_2','era_3','qtr_1','qtr_2','qtr_3','qtr_4','qtr_5',\n",
    "        'home','down_1.0','down_4.0','pass_right','pass_left',\n",
    "        'outdoor','2min_warning']\n",
    "X.drop(columns=drop,inplace=True)\n",
    "Y.drop(columns=drop,inplace=True)\n",
    "x, x_test, y, y_test = train_test_split(X, Y, test_size=0.15, random_state = 8)\n",
    "# Features' names --\n",
    "features = X.columns\n",
    "#Scale data --\n",
    "scaler = MinMaxScaler()\n",
    "x = scaler.fit_transform(x)\n",
    "x_test = scaler.transform(x_test)\n",
    "# Check sample/test size\n",
    "print('Train: {:1,} rows |'.format(x.shape[0]),'{:1,} columns'.format(x.shape[1]))\n",
    "print('Test: {:1,} rows |'.format(x_test.shape[0]),'{:1,} columns'.format(x_test.shape[1]))"
   ]
  },
  {
   "cell_type": "markdown",
   "metadata": {},
   "source": [
    "**Hyper-Parameter Tunning using Grid Search Cross-validation**\n",
    "\n",
    "Here I do Grid search cross-validation to find the best parameters."
   ]
  },
  {
   "cell_type": "markdown",
   "metadata": {},
   "source": [
    "**Built this to keep track of my Grid searched results**\n",
    "\n",
    "**Searched**\n",
    "        \n",
    "|Parameter|last|last-1|last-2|\n",
    "|------|------|------|------|\n",
    "|'min_samples_split'||||\n",
    "|'min_samples_leaf'||||\n",
    "|'max_depth'||||\n",
    "|'n_estimators'||||\n",
    "|'subsample'||||\n",
    "|'learning_rate'||||\n",
    "|Run time ||||\n",
    "\n",
    "**Results**\n",
    "\n",
    "|Parameter|Best|Best-1|Best-2\n",
    "|------|------|------|------|\n",
    "|'min_samples_split'||||\n",
    "|'min_samples_leaf'||||\n",
    "|'max_depth'|||| \n",
    "|'n_estimators'||||\n",
    "|'subsample'||||\n",
    "|'learning_rate'|||| "
   ]
  },
  {
   "cell_type": "code",
   "execution_count": 196,
   "metadata": {},
   "outputs": [
    {
     "name": "stdout",
     "output_type": "stream",
     "text": [
      "Run-time: 0:02:00.083977\n",
      "Best Parameters: {'learning_rate': 0.1, 'max_depth': 5}\n"
     ]
    }
   ],
   "source": [
    "a = datetime.datetime.now()\n",
    "param_test = {\n",
    "    'max_depth' : [3,4,5],\n",
    "    'learning_rate' : [.08,0.1,.12]\n",
    "            }\n",
    "# Set grid-search --\n",
    "gsearch = GridSearchCV(\n",
    "    GradientBoostingClassifier(\n",
    "        min_samples_leaf=65,\n",
    "        min_samples_split=600,\n",
    "        n_estimators = 80,\n",
    "        random_state=0,\n",
    "        max_features='auto',\n",
    "        subsample= .8\n",
    "    ), \n",
    "    param_grid = param_test, \n",
    "    scoring='neg_log_loss',\n",
    "    n_jobs=-1, \n",
    "    cv=3)  \n",
    "#Run Grid search --\n",
    "gsearch.fit(x,y)\n",
    "b = datetime.datetime.now()\n",
    "print('Run-time:',b - a)\n",
    "#CV Results\n",
    "print('Best Parameters:',gsearch.best_params_)"
   ]
  },
  {
   "cell_type": "markdown",
   "metadata": {},
   "source": [
    "**CV Results**"
   ]
  },
  {
   "cell_type": "code",
   "execution_count": 197,
   "metadata": {},
   "outputs": [
    {
     "name": "stdout",
     "output_type": "stream",
     "text": [
      "Gradient Boosting Classifier train accuracy score: \n",
      "70.13%\n",
      "Train RMSE: \n",
      "44.56%\n",
      "Train MSE: \n",
      "19.86%\n"
     ]
    }
   ],
   "source": [
    "# Estimate prob - train set --\n",
    "ytrain_prob = gsearch.predict_proba(x)[:, 1]\n",
    "ytrain_hat = gsearch.predict(x)\n",
    "train=pd.DataFrame(data={'CP':ytrain_prob,'Predicted':ytrain_hat},index=y.index)\n",
    "train['Outcome'] = y\n",
    "train['CPOE'] = train['Outcome'] - train['CP']\n",
    "se_t = train['CPOE']**2\n",
    "mse_t = se_t.values.mean()\n",
    "rmse_t = math.sqrt(mse_t)\n",
    "train_accuracy = accuracy_score(y.values,ytrain_hat)\n",
    "# Print Results --\n",
    "print('Gradient Boosting Classifier train accuracy score: \\n{:.2%}'.format(train_accuracy))\n",
    "print('Train RMSE: \\n{:.2%}'.format(rmse_t))\n",
    "print('Train MSE: \\n{:.2%}'.format(mse_t))"
   ]
  },
  {
   "cell_type": "markdown",
   "metadata": {},
   "source": [
    "**Test Results**"
   ]
  },
  {
   "cell_type": "code",
   "execution_count": 198,
   "metadata": {},
   "outputs": [
    {
     "name": "stdout",
     "output_type": "stream",
     "text": [
      "Gradient Boosting Classifier test accuracy score: \n",
      "69.64%\n",
      "Test RMSE: \n",
      "44.80%\n",
      "Test MSE: \n",
      "20.07%\n"
     ]
    }
   ],
   "source": [
    "# Estimate prob - test set --\n",
    "ytest_prob = gsearch.predict_proba(x_test)[:, 1]\n",
    "ytest_hat = gsearch.predict(x_test)\n",
    "test = pd.DataFrame(data={'CP':ytest_prob,'Predicted':ytest_hat},index= y_test.index)\n",
    "test['Outcome'] = y_test\n",
    "test['CPOE'] = test['Outcome'] - test['CP']\n",
    "se = test['CPOE']**2\n",
    "mse = se.values.mean()\n",
    "rmse = math.sqrt(mse)\n",
    "test_accuracy = accuracy_score(y_test.values,ytest_hat)\n",
    "# Print Results --\n",
    "print('Gradient Boosting Classifier test accuracy score: \\n{:.2%}'.format(test_accuracy,4))\n",
    "print('Test RMSE: \\n{:.2%}'.format(rmse))\n",
    "print('Test MSE: \\n{:.2%}'.format(mse))"
   ]
  },
  {
   "cell_type": "markdown",
   "metadata": {},
   "source": [
    "**ROC AUC Curve**"
   ]
  },
  {
   "cell_type": "code",
   "execution_count": 199,
   "metadata": {
    "scrolled": false
   },
   "outputs": [
    {
     "name": "stdout",
     "output_type": "stream",
     "text": [
      "No Skill: ROC AUC = 0.5000\n",
      "GBC: ROC AUC = 0.7145\n"
     ]
    },
    {
     "data": {
      "image/png": "[encoded data removed]",
      "text/plain": [
       "<Figure size 864x576 with 1 Axes>"
      ]
     },
     "metadata": {
      "needs_background": "light"
     },
     "output_type": "display_data"
    }
   ],
   "source": [
    "#Code from: https://machinelearningmastery.com/roc-curves-and-precision-recall-curves-for-classification-in-python/\n",
    "lr_probs = gsearch.predict_proba(x_test)[:, 1]\n",
    "ns_probs = [0 for _ in range(len(y_test))]\n",
    "ns_auc = roc_auc_score(y_test, ns_probs)\n",
    "lr_auc = roc_auc_score(y_test, lr_probs)\n",
    "# summarize scores\n",
    "print('No Skill: ROC AUC = %.4f' % (ns_auc))\n",
    "print('GBC: ROC AUC = %.4f' % (lr_auc))\n",
    "# calculate roc curves\n",
    "ns_fpr, ns_tpr, _ = roc_curve(y_test, ns_probs)\n",
    "lr_fpr, lr_tpr, _ = roc_curve(y_test, lr_probs)\n",
    "# plot the roc curve for the model\n",
    "plt.figure(figsize=(12,8))\n",
    "plt.plot(ns_fpr, ns_tpr, linestyle='--', label='No Skill')\n",
    "plt.plot(lr_fpr, lr_tpr, marker='.', label='GBC')\n",
    "# axis labels\n",
    "plt.xlabel('False Positive Rate')\n",
    "plt.ylabel('True Positive Rate')\n",
    "# show the legend\n",
    "plt.legend()\n",
    "# show the plot\n",
    "plt.show()"
   ]
  },
  {
   "cell_type": "code",
   "execution_count": 205,
   "metadata": {
    "scrolled": false
   },
   "outputs": [
    {
     "data": {
      "image/png": "[encoded data removed]",
      "text/plain": [
       "<Figure size 936x576 with 1 Axes>"
      ]
     },
     "metadata": {
      "needs_background": "light"
     },
     "output_type": "display_data"
    }
   ],
   "source": [
    "# using some dummy data for this example\n",
    "a = featu['Feature'].values\n",
    "b = featu['Feature Importance'].values\n",
    "plt.figure(figsize=(13,8))\n",
    "plt.bar(a,b)\n",
    "# zip joins x and y coordinates in pairs\n",
    "for a,b in zip(a,b):\n",
    "    label = \"{:.1%}\".format(b)\n",
    "    plt.annotate(label, # this is the text\n",
    "                 (a,b), # this is the point to label\n",
    "                 textcoords=\"offset points\", # how to position the text\n",
    "                 xytext=(0,10), # distance from text to points (x,y)\n",
    "                 ha='center') # horizontal alignment can be left, right or center\n",
    "plt.title(\"Predicting Pass Completion\")\n",
    "plt.xticks(rotation=60)\n",
    "plt.ylabel(\"Feature Importance\")\n",
    "plt.show()"
   ]
  },
  {
   "cell_type": "markdown",
   "metadata": {},
   "source": [
    "**Comparing with NFL Next Gen Stats**"
   ]
  },
  {
   "cell_type": "markdown",
   "metadata": {},
   "source": [
    "In this section I'd like to compare how my model would have predicted the NFL 2019 season. I will be comparing my mean errors (CPOE), grouped by level (Quartback) with NFL Next Gen Stats's (NGS) \"+/-\" variable, Which is escencially the same thing: by how much a QB over or underperformed.    \n",
    "\n",
    "NGS has tracking data, which means they can add closeness of closest defender, aceleration, mass, ball location, and other key variables into the model. My goal is to explain 90% of NGS results using public data. I'll use $r^2$.\n",
    "\n",
    "In order to make it as realistic as possible, I'll separate 2019 and re-fit my model, assuming 2006 - 2018 was the only data we have. This would give us realistic and reporducible results moving forward.\n",
    "\n",
    "From our previous exercise we found good paameters so I'll just do a little cross-val to train based on new data.\n"
   ]
  },
  {
   "cell_type": "code",
   "execution_count": 169,
   "metadata": {},
   "outputs": [
    {
     "ename": "TypeError",
     "evalue": "list indices must be integers or slices, not str",
     "output_type": "error",
     "traceback": [
      "\u001b[1;31m---------------------------------------------------------------------------\u001b[0m",
      "\u001b[1;31mTypeError\u001b[0m                                 Traceback (most recent call last)",
      "\u001b[1;32m<ipython-input-169-4573331b0c6e>\u001b[0m in \u001b[0;36m<module>\u001b[1;34m\u001b[0m\n\u001b[0;32m      1\u001b[0m \u001b[1;31m# Prepare set --\u001b[0m\u001b[1;33m\u001b[0m\u001b[1;33m\u001b[0m\u001b[1;33m\u001b[0m\u001b[0m\n\u001b[1;32m----> 2\u001b[1;33m \u001b[0mseas_dic\u001b[0m \u001b[1;33m=\u001b[0m \u001b[0mdata\u001b[0m\u001b[1;33m[\u001b[0m\u001b[1;34m'season'\u001b[0m\u001b[1;33m]\u001b[0m\u001b[1;33m.\u001b[0m\u001b[0mto_dict\u001b[0m\u001b[1;33m(\u001b[0m\u001b[1;33m)\u001b[0m\u001b[1;33m\u001b[0m\u001b[1;33m\u001b[0m\u001b[0m\n\u001b[0m\u001b[0;32m      3\u001b[0m \u001b[0mfit_x\u001b[0m \u001b[1;33m=\u001b[0m \u001b[0mdata\u001b[0m\u001b[1;33m.\u001b[0m\u001b[0mcopy\u001b[0m\u001b[1;33m(\u001b[0m\u001b[1;33m)\u001b[0m\u001b[1;33m\u001b[0m\u001b[1;33m\u001b[0m\u001b[0m\n\u001b[0;32m      4\u001b[0m \u001b[0mdic_names\u001b[0m\u001b[1;33m=\u001b[0m\u001b[0mfit_x\u001b[0m\u001b[1;33m[\u001b[0m\u001b[1;33m[\u001b[0m\u001b[1;34m'passer_player_id'\u001b[0m\u001b[1;33m,\u001b[0m\u001b[1;34m'passer_player_name'\u001b[0m\u001b[1;33m]\u001b[0m\u001b[1;33m]\u001b[0m\u001b[1;33m.\u001b[0m\u001b[0mset_index\u001b[0m\u001b[1;33m(\u001b[0m\u001b[1;34m'passer_player_id'\u001b[0m\u001b[1;33m)\u001b[0m\u001b[1;33m.\u001b[0m\u001b[0mto_dict\u001b[0m\u001b[1;33m(\u001b[0m\u001b[1;33m)\u001b[0m\u001b[1;33m[\u001b[0m\u001b[1;34m'passer_player_name'\u001b[0m\u001b[1;33m]\u001b[0m\u001b[1;33m\u001b[0m\u001b[1;33m\u001b[0m\u001b[0m\n\u001b[0;32m      5\u001b[0m \u001b[0mdic_passer\u001b[0m\u001b[1;33m=\u001b[0m\u001b[0mfit_x\u001b[0m\u001b[1;33m[\u001b[0m\u001b[1;34m'passer_player_id'\u001b[0m\u001b[1;33m]\u001b[0m\u001b[1;33m.\u001b[0m\u001b[0mto_dict\u001b[0m\u001b[1;33m(\u001b[0m\u001b[1;33m)\u001b[0m\u001b[1;33m\u001b[0m\u001b[1;33m\u001b[0m\u001b[0m\n",
      "\u001b[1;31mTypeError\u001b[0m: list indices must be integers or slices, not str"
     ]
    }
   ],
   "source": [
    "# Prepare set --\n",
    "seas_dic = data['season'].to_dict()\n",
    "fit_x = data.copy()\n",
    "# Save passer_id and passer names in a dictionary\n",
    "dic_names=fit_x[['passer_player_id','passer_player_name']].set_index('passer_player_id').to_dict()['passer_player_name']\n",
    "dic_passer=fit_x['passer_player_id'].to_dict()\n",
    "pred_x = fit_x[fit_x['season'] == 2019].copy()\n",
    "pred_x_index = pred_x.index\n",
    "pred_y = fit_x['complete_pass'].astype(int)\n",
    "pred_x.drop(drop_pred,axis=1,inplace= True)\n",
    "fit_x = fit_x[fit_x['season'] <= 2018]\n",
    "fit_y=fit_x['complete_pass'].astype(int)\n",
    "# Drop noisy variables\n",
    "drop_pred = drop.copy()\n",
    "drop_pred.append('complete_pass')\n",
    "fit_x.drop(drop_pred,axis=1,inplace= True)\n",
    "feat = fit_x.columns\n",
    "#Scale data --\n",
    "scaler = MinMaxScaler()\n",
    "fit_x = scaler.fit_transform(fit_x)\n",
    "pred_x = scaler.transform(pred_x)\n",
    "# Train model --\n",
    "a = datetime.datetime.now()\n",
    "# Set search --\n",
    "param_test = {\n",
    "    'max_depth':[4,5],\n",
    "    'learning_rate':[.1,0.12]\n",
    "            }\n",
    "# Set grid-search --\n",
    "gsearch2 = GridSearchCV(\n",
    "    GradientBoostingClassifier(\n",
    "        min_samples_leaf=65,\n",
    "        min_samples_split=600,\n",
    "        n_estimators = 80,\n",
    "        random_state=0,\n",
    "        max_features='auto',\n",
    "        subsample= .8\n",
    "    ), \n",
    "    param_grid = param_test, \n",
    "    scoring='neg_log_loss',\n",
    "    n_jobs=-1, \n",
    "    cv=2) \n",
    "gsearch2.fit(fit_x,fit_y)\n",
    "b = datetime.datetime.now()\n",
    "print('Run-time:',b - a)\n",
    "gsearch2.best_params_ #.12 5"
   ]
  },
  {
   "cell_type": "code",
   "execution_count": 63,
   "metadata": {
    "scrolled": false
   },
   "outputs": [
    {
     "name": "stdout",
     "output_type": "stream",
     "text": [
      "Gradient Boosting Classifier 2019 accuracy score: \n",
      "72.07%\n",
      "2019 RMSE: \n",
      "43.60%\n",
      "2019 MSE: \n",
      "19.01%\n"
     ]
    }
   ],
   "source": [
    "# Estimate Probs --\n",
    "y_prob = gsearch2.best_estimator_.predict_proba(pred_x)[:, 1]\n",
    "y_hat = gsearch2.best_estimator_.predict(pred_x)\n",
    "comp_set = pd.DataFrame(\n",
    "    data={'CP':y_prob,'Predicted':y_hat.astype(int),'Outcome':pred_y},\n",
    "    index=pred_x_index\n",
    ")\n",
    "# Prepare set --\n",
    "comp_set['player_id'] = comp_set.index.map(dic_passer)\n",
    "comp_set['passer_name'] = comp_set['player_id'].map(full_name)\n",
    "comp_set['CPOE'] = comp_set['Outcome'] - comp_set['CP']\n",
    "comp_set['Season']=comp_set.index.map(seas_dic)\n",
    "comp_set = comp_set[comp_set['Season'] == 2019]\n",
    "# Metrics --\n",
    "se_c = comp_set['CPOE']**2\n",
    "mse_c = se_c.values.mean()\n",
    "rmse_c = math.sqrt(mse_c)\n",
    "comp_accuracy = accuracy_score(comp_set['Outcome'] ,comp_set['Predicted'] )\n",
    "print('Gradient Boosting Classifier 2019 accuracy score: \\n{:.2%}'.format(comp_accuracy))\n",
    "print('2019 RMSE: \\n{:.2%}'.format(rmse_c))\n",
    "print('2019 MSE: \\n{:.2%}'.format(mse_c))"
   ]
  },
  {
   "cell_type": "code",
   "execution_count": 162,
   "metadata": {},
   "outputs": [
    {
     "data": {
      "image/png": "[encoded data removed]",
      "text/plain": [
       "<Figure size 720x576 with 1 Axes>"
      ]
     },
     "metadata": {
      "needs_background": "light"
     },
     "output_type": "display_data"
    }
   ],
   "source": [
    "# Summarize by QB\n",
    "by_qb = comp_set.groupby(\n",
    "    'player_id').agg(\n",
    "    {\n",
    "        'CPOE':'mean',\n",
    "        'CP':'count', \n",
    "        }).rename(columns={'CP':'Num of Attempts'})\n",
    "by_qb=by_qb[by_qb['Num of Attempts'] >= 100]\n",
    "by_qb['QB'] = by_qb.index.map(full_name)\n",
    "# Merge NFL NGS\n",
    "ngs = pd.read_csv('ngs.csv')\n",
    "by_qb = by_qb.merge(ngs,on='QB',how='left').dropna()\n",
    "by_qb=by_qb[['QB','Num of Attempts','CPOE','CPOE_NFL']]\n",
    "by_qb.sort_values(by='CPOE_NFL',ascending=False,inplace=True)\n",
    "by_qb['Rank'] = np.arange(1, len(by_qb) + 1)\n",
    "by_qb.set_index('Rank',inplace=True)\n",
    "# LM Pred\n",
    "x_var=by_qb[['CPOE']].round(3)\n",
    "y_var=by_qb[['CPOE_NFL']]\n",
    "regr = linear_model.LinearRegression()\n",
    "regr.fit(x_var,y_var)\n",
    "y_hat_var = regr.predict(x_var)\n",
    "# Plot outputs\n",
    "plt.figure(figsize=(10,8))\n",
    "plt.scatter(x_var, y_var,  color='steelblue')\n",
    "plt.plot(x_var, y_hat_var, color='darkorange', linewidth=1)\n",
    "plt.ylabel('NFL Next Gen Stats')\n",
    "plt.xlabel('My model')\n",
    "r2 = r2_score(y_var, y_hat_var)\n",
    "plt.text(-.09, .05,u\"2019 R\\u00b2: {:0.1f}\".format(r2), style='italic', fontsize=15)\n",
    "plt.show()\n",
    "#.8894 the best so far"
   ]
  },
  {
   "cell_type": "markdown",
   "metadata": {},
   "source": [
    "# Hooray!\n",
    "I was very close to my goal of .90 $r^2$, it was .89 in fact, but there's no difference"
   ]
  }
 ],
 "metadata": {
  "kernelspec": {
   "display_name": "Python 3",
   "language": "python",
   "name": "python3"
  },
  "language_info": {
   "codemirror_mode": {
    "name": "ipython",
    "version": 3
   },
   "file_extension": ".py",
   "mimetype": "text/x-python",
   "name": "python",
   "nbconvert_exporter": "python",
   "pygments_lexer": "ipython3",
   "version": "3.7.6"
  }
 },
 "nbformat": 4,
 "nbformat_minor": 2
}
